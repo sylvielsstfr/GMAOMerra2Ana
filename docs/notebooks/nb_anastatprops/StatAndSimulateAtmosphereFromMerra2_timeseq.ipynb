{
 "cells": [
  {
   "cell_type": "markdown",
   "id": "45bf4242-bfc5-4d43-88c4-a8059ae148df",
   "metadata": {},
   "source": [
    "# Simulate Atmosphere from Merra2 according the observatory"
   ]
  },
  {
   "cell_type": "markdown",
   "id": "01993b6e-6438-4fca-a5d5-1f9791336847",
   "metadata": {},
   "source": [
    "- author Sylvie Dagoret-Campagne\n",
    "- affiliation : IJCLab\n",
    "- creation date 2025-10-11 :\n",
    "- last update : 2025-03-27\n",
    "- laptop : conda_py311"
   ]
  },
  {
   "cell_type": "markdown",
   "id": "0219159d-6865-4311-ac1d-99d11dad223f",
   "metadata": {},
   "source": [
    "**Goal** : Show how the variation of Merra2 parameter impact the transmission"
   ]
  },
  {
   "cell_type": "code",
   "execution_count": null,
   "id": "63a2b2ef-0bc2-45eb-91d9-87835d264751",
   "metadata": {
    "tags": []
   },
   "outputs": [],
   "source": [
    "from platform import python_version\n",
    "print(python_version())"
   ]
  },
  {
   "cell_type": "code",
   "execution_count": null,
   "id": "dcc53afe-c58f-4948-92c9-0090d373ad2a",
   "metadata": {},
   "outputs": [],
   "source": [
    "import warnings\n",
    "warnings.resetwarnings()\n",
    "warnings.simplefilter('ignore')"
   ]
  },
  {
   "cell_type": "code",
   "execution_count": null,
   "id": "8026d265-2493-4045-afec-26205ff71f7c",
   "metadata": {
    "tags": []
   },
   "outputs": [],
   "source": [
    "from platform import python_version\n",
    "print(python_version())"
   ]
  },
  {
   "cell_type": "code",
   "execution_count": null,
   "id": "eb1f116e-80e3-46ad-a7db-7f253632e5ca",
   "metadata": {},
   "outputs": [],
   "source": [
    "import os"
   ]
  },
  {
   "cell_type": "markdown",
   "id": "6a518feb-ba4d-4d85-b2df-768c43b80e78",
   "metadata": {},
   "source": [
    "## Choose the observatory"
   ]
  },
  {
   "cell_type": "code",
   "execution_count": null,
   "id": "8aed5b47-b1cd-418a-8fb5-e06d9569e6e8",
   "metadata": {},
   "outputs": [],
   "source": [
    "obs = \"lsst\""
   ]
  },
  {
   "cell_type": "code",
   "execution_count": null,
   "id": "3ec760cd-3d3f-4a34-a6f6-b226fe500951",
   "metadata": {},
   "outputs": [],
   "source": [
    "# where are stored the figures\n",
    "pathfigs = f\"figs_{obs}_SimulateAtmosphereFomMerra2\"\n",
    "if not os.path.exists(pathfigs):\n",
    "    os.makedirs(pathfigs) \n",
    "figtype = \".pdf\""
   ]
  },
  {
   "cell_type": "code",
   "execution_count": null,
   "id": "bf752b70-e6ca-4cbf-8e8c-20bf7f0d8f61",
   "metadata": {},
   "outputs": [],
   "source": [
    "import numpy as np\n",
    "from numpy.linalg import inv\n",
    "import matplotlib as mpl\n",
    "import matplotlib.pyplot as plt\n",
    "%matplotlib inline\n",
    "from mpl_toolkits.axes_grid1 import make_axes_locatable\n",
    "from matplotlib.colors import LogNorm,SymLogNorm\n",
    "from matplotlib.patches import Circle,Annulus\n",
    "from astropy.visualization import ZScaleInterval\n",
    "props = dict(boxstyle='round', facecolor=\"white\", alpha=0.1)\n",
    "#props = dict(boxstyle='round')\n",
    "\n",
    "import matplotlib.colors as colors\n",
    "import matplotlib.cm as cmx\n",
    "\n",
    "import matplotlib.ticker                         # here's where the formatter is\n",
    "from matplotlib.ticker import (MultipleLocator, FormatStrFormatter,\n",
    "                               AutoMinorLocator)\n",
    "\n",
    "from matplotlib.gridspec import GridSpec\n",
    "\n",
    "from astropy.visualization import (MinMaxInterval, SqrtStretch,ZScaleInterval,PercentileInterval,\n",
    "                                   ImageNormalize,imshow_norm)\n",
    "from astropy.visualization.stretch import SinhStretch, LinearStretch,AsinhStretch,LogStretch\n",
    "\n",
    "from astropy.io import fits\n",
    "from astropy.wcs import WCS\n",
    "from astropy import units as u\n",
    "from astropy import constants as c\n",
    "\n",
    "from astropy.coordinates.earth import EarthLocation\n",
    "from datetime import datetime\n",
    "from pytz import timezone\n",
    "\n",
    "from scipy import interpolate\n",
    "from sklearn.neighbors import NearestNeighbors\n",
    "from sklearn.neighbors import KDTree, BallTree\n",
    "\n",
    "import pandas as pd\n",
    "pd.set_option(\"display.max_columns\", None)\n",
    "pd.set_option('display.max_rows', 100)\n",
    "\n",
    "import matplotlib.ticker                         # here's where the formatter is\n",
    "import os\n",
    "import re\n",
    "import pandas as pd\n",
    "import pickle\n",
    "from collections import OrderedDict\n",
    "\n",
    "plt.rcParams[\"figure.figsize\"] = (4,3)\n",
    "plt.rcParams[\"axes.labelsize\"] = 'xx-large'\n",
    "plt.rcParams['axes.titlesize'] = 'xx-large'\n",
    "plt.rcParams['xtick.labelsize']= 'xx-large'\n",
    "plt.rcParams['ytick.labelsize']= 'xx-large'\n",
    "plt.rcParams['legend.fontsize'] = 18\n",
    "\n",
    "import scipy\n",
    "from scipy.optimize import curve_fit,least_squares\n",
    "\n",
    "\n",
    "# new color correction model\n",
    "import pickle\n",
    "from scipy.interpolate import RegularGridInterpolator"
   ]
  },
  {
   "cell_type": "code",
   "execution_count": null,
   "id": "6985be97-a179-4c07-88c4-f24f8d0f4439",
   "metadata": {},
   "outputs": [],
   "source": [
    "from getObsAtmo.getObsAtmo import ObsAtmo,validateObsName,Dict_Of_sitesPressures,getObsSiteDataFrame"
   ]
  },
  {
   "cell_type": "code",
   "execution_count": null,
   "id": "5be413c0-e64b-43fb-bf54-edccef9b49ff",
   "metadata": {},
   "outputs": [],
   "source": [
    "emul =  ObsAtmo(obs_str= \"LSST\")\n",
    "WL = emul.GetWL()"
   ]
  },
  {
   "cell_type": "code",
   "execution_count": null,
   "id": "5bcbb59a-9650-4133-9254-d15504f6dc23",
   "metadata": {},
   "outputs": [],
   "source": [
    "# Library to fit atmosphere\n",
    "import sys\n",
    "sys.path.append('../lib')\n",
    "#import libAtmosphericFit\n",
    "# This package encapsulate the calculation on calibration used in this nb\n",
    "from libPhotometricCorrections import *"
   ]
  },
  {
   "cell_type": "code",
   "execution_count": null,
   "id": "85947e07-3823-4e95-9d1f-24254a36ffa1",
   "metadata": {},
   "outputs": [],
   "source": [
    "def set_photometric_parameters(exptime, nexp, readnoise=None):\n",
    "    # readnoise = None will use the default (8.8 e/pixel). Readnoise should be in electrons/pixel.\n",
    "    photParams = PhotometricParameters(exptime=exptime, nexp=nexp, readnoise=readnoise)\n",
    "    return photParams"
   ]
  },
  {
   "cell_type": "code",
   "execution_count": null,
   "id": "63abcf7a-cef5-4556-bf19-c76942558e16",
   "metadata": {},
   "outputs": [],
   "source": [
    "def scale_sed(ref_mag, ref_filter, sed):\n",
    "    fluxNorm = sed.calc_flux_norm(ref_mag, lsst_std[ref_filter])\n",
    "    sed.multiply_flux_norm(fluxNorm)\n",
    "    return sed"
   ]
  },
  {
   "cell_type": "code",
   "execution_count": null,
   "id": "e6c53f95-43f1-4af7-815d-670611a3ca44",
   "metadata": {},
   "outputs": [],
   "source": [
    "# set default photometric parameters to compute ADU\n",
    "photoparams = set_photometric_parameters(30, 1 , readnoise=None)"
   ]
  },
  {
   "cell_type": "code",
   "execution_count": null,
   "id": "7d27c631-00d9-4e3b-8d66-1b0b815154e0",
   "metadata": {},
   "outputs": [],
   "source": [
    "from rubinsimphot.phot_utils import Bandpass, Sed\n",
    "from rubinsimphot.data import get_data_dir"
   ]
  },
  {
   "cell_type": "code",
   "execution_count": null,
   "id": "ad1b1943-5173-40b8-8ac8-442e6ecc47d0",
   "metadata": {},
   "outputs": [],
   "source": [
    "from astropy.modeling import models"
   ]
  },
  {
   "cell_type": "code",
   "execution_count": null,
   "id": "46fe722f-bb23-4c29-8efb-4c096c72eec9",
   "metadata": {},
   "outputs": [],
   "source": [
    "from numpy.random import lognormal"
   ]
  },
  {
   "cell_type": "code",
   "execution_count": null,
   "id": "0ca0d1e6-5f82-4c43-aaa3-8524fc2bc5ba",
   "metadata": {},
   "outputs": [],
   "source": [
    "from matplotlib.ticker import (MultipleLocator, FormatStrFormatter,\n",
    "                               AutoMinorLocator)\n",
    "from astropy.visualization import (MinMaxInterval, SqrtStretch,ZScaleInterval,PercentileInterval,\n",
    "                                   ImageNormalize,imshow_norm)\n",
    "from astropy.visualization.stretch import SinhStretch, LinearStretch,AsinhStretch,LogStretch\n",
    "\n",
    "from astropy.time import Time\n"
   ]
  },
  {
   "cell_type": "code",
   "execution_count": null,
   "id": "e189816c-5048-43ab-a01a-7c078af54489",
   "metadata": {},
   "outputs": [],
   "source": [
    "# Remove to run faster the notebook\n",
    "#import ipywidgets as widgets\n",
    "#%matplotlib widget"
   ]
  },
  {
   "cell_type": "code",
   "execution_count": null,
   "id": "67327fd4-e405-45ce-8923-cd46ebaa0c0f",
   "metadata": {
    "tags": []
   },
   "outputs": [],
   "source": [
    "from importlib.metadata import version"
   ]
  },
  {
   "cell_type": "code",
   "execution_count": null,
   "id": "af8332dd-24f9-4b19-88f9-c62d0a4aebf1",
   "metadata": {
    "tags": []
   },
   "outputs": [],
   "source": [
    "# wavelength bin colors\n",
    "#jet = plt.get_cmap('jet')\n",
    "#cNorm = mpl.colors.Normalize(vmin=0, vmax=NSED)\n",
    "#scalarMap = cmx.ScalarMappable(norm=cNorm, cmap=jet)\n",
    "#all_colors = scalarMap.to_rgba(np.arange(NSED), alpha=1)"
   ]
  },
  {
   "cell_type": "code",
   "execution_count": null,
   "id": "1003d9d6-a40f-48b1-9ffc-bfab9f45ba93",
   "metadata": {},
   "outputs": [],
   "source": [
    "np.__version__"
   ]
  },
  {
   "cell_type": "code",
   "execution_count": null,
   "id": "c4cb2652-cb22-432e-b110-ae71d59dc793",
   "metadata": {},
   "outputs": [],
   "source": [
    "pd.__version__"
   ]
  },
  {
   "cell_type": "code",
   "execution_count": null,
   "id": "ad03dc3d-6741-4478-82ba-1d5447529d9a",
   "metadata": {},
   "outputs": [],
   "source": [
    "def convertNumToDatestr(num):\n",
    "    year = num//10_000\n",
    "    month= (num-year*10_000)//100\n",
    "    day = (num-year*10_000-month*100)\n",
    "\n",
    "    year_str = str(year).zfill(4)\n",
    "    month_str = str(month).zfill(2)\n",
    "    day_str = str(day).zfill(2)\n",
    "    \n",
    "    datestr = f\"{year_str}-{month_str}-{day_str}\"\n",
    "    return pd.to_datetime(datestr)"
   ]
  },
  {
   "cell_type": "code",
   "execution_count": null,
   "id": "b38653bf-649e-4bd5-a75a-ab8908dbe7e4",
   "metadata": {},
   "outputs": [],
   "source": [
    "def pdf_lognormal(x,a0,mu,sigma):\n",
    "    \"\"\"\n",
    "    \"\"\"\n",
    "    pdf = a0*(np.exp(-(np.log(x) - mu)**2 / (2 * sigma**2))/ (x * sigma * np.sqrt(2 * np.pi)))\n",
    "    return pdf"
   ]
  },
  {
   "cell_type": "code",
   "execution_count": null,
   "id": "63241af1-1e0c-45cc-93c1-c9cb12ec81a7",
   "metadata": {},
   "outputs": [],
   "source": [
    "def pdf_normal(x,a0,mu,sigma):\n",
    "    \"\"\"\n",
    "    \"\"\"\n",
    "    pdf = a0*(np.exp(-(x- mu)**2 / (2 * sigma**2))/ (sigma * np.sqrt(2 * np.pi)))\n",
    "    return pdf"
   ]
  },
  {
   "cell_type": "code",
   "execution_count": null,
   "id": "54c28920-c2a0-48a2-bf53-d2abee893332",
   "metadata": {},
   "outputs": [],
   "source": [
    "x = np.linspace(0,15)\n",
    "y = pdf_lognormal(x,a0=100,mu=1,sigma=0.5)"
   ]
  },
  {
   "cell_type": "code",
   "execution_count": null,
   "id": "6aa0951a-306d-4ac0-a96c-2644c256af87",
   "metadata": {},
   "outputs": [],
   "source": [
    "plt.plot(x,y)"
   ]
  },
  {
   "cell_type": "code",
   "execution_count": null,
   "id": "b5670092-8f50-45ce-9959-ae8abd34ec9e",
   "metadata": {},
   "outputs": [],
   "source": [
    "x = np.linspace(-5,19)\n",
    "y = pdf_normal(x,a0=100,mu=3,sigma=1)"
   ]
  },
  {
   "cell_type": "code",
   "execution_count": null,
   "id": "1d35022f-7c2c-40b5-ab82-ecdd093725df",
   "metadata": {},
   "outputs": [],
   "source": [
    "plt.plot(x,y)"
   ]
  },
  {
   "cell_type": "markdown",
   "id": "4f13d6a3-7793-4bc0-920a-1d690d9f84b2",
   "metadata": {},
   "source": [
    "## Configuration"
   ]
  },
  {
   "cell_type": "code",
   "execution_count": null,
   "id": "47932741-5233-4a14-a06d-cd5537446953",
   "metadata": {},
   "outputs": [],
   "source": [
    "# reference flux in Jy\n",
    "F0 = ((0.*u.ABmag).to(u.Jy)).value\n",
    "F0"
   ]
  },
  {
   "cell_type": "code",
   "execution_count": null,
   "id": "c8cb2e48-0b34-4cbf-8379-43f7065112f7",
   "metadata": {},
   "outputs": [],
   "source": [
    "observing_location = EarthLocation.of_site('Rubin Observatory')\n",
    "tz = timezone('America/Santiago')"
   ]
  },
  {
   "cell_type": "code",
   "execution_count": null,
   "id": "9405b60e-2e5d-4cd2-afa3-cdcf6d8fd8eb",
   "metadata": {},
   "outputs": [],
   "source": [
    "am0 = 1.20    # airmass\n",
    "pwv0 = 4.0  # Precipitable water vapor vertical column depth in mm\n",
    "oz0 = 300.  # Ozone vertical column depth in Dobson Unit (DU)\n",
    "ncomp=1     # Number of aerosol components\n",
    "tau0= 0.0 # Vertical Aerosol depth (VAOD) \n",
    "beta0 = 1.2 # Aerosol Angstrom exponent\n"
   ]
  },
  {
   "cell_type": "code",
   "execution_count": null,
   "id": "5af14cfc-935e-48ca-af0f-2e767e94bb5c",
   "metadata": {},
   "outputs": [],
   "source": [
    "pc = PhotometricCorrections(am0,pwv0,oz0,tau0,beta0)"
   ]
  },
  {
   "cell_type": "code",
   "execution_count": null,
   "id": "1a595ec0-c838-4510-91e2-9df57d3a2c70",
   "metadata": {},
   "outputs": [],
   "source": [
    "fig, axs = plt.subplots(1,1,figsize=(6,4))\n",
    "axs.plot(pc.WL,pc.atm_std,'k-')\n",
    "axs.set_xlabel(\"$\\\\lambda$ (nm)\")\n",
    "axs.set_title(\"Standard atmosphere transmission\")"
   ]
  },
  {
   "cell_type": "code",
   "execution_count": null,
   "id": "cd345334-3600-4401-a651-667a07aa4c00",
   "metadata": {},
   "outputs": [],
   "source": [
    "fig, axs = plt.subplots(1,1,figsize=(6,4))\n",
    "# loop on filter\n",
    "for index,f in enumerate(filter_tagnames):\n",
    "    \n",
    "    axs.plot(pc.bandpass_inst[f].wavelen,pc.bandpass_inst[f].sb,color=filter_color[index]) \n",
    "    axs.fill_between(pc.bandpass_inst[f].wavelen,pc.bandpass_inst[f].sb,color=filter_color[index],alpha=0.2) \n",
    "    axs.axvline(FILTERWL[index,2],color=filter_color[index],linestyle=\"-.\")\n",
    "    \n",
    "axs.set_xlabel(\"$\\\\lambda$ (nm)\")\n",
    "axs.set_title(\"Instrument throughput (LSST)\")\n"
   ]
  },
  {
   "cell_type": "code",
   "execution_count": null,
   "id": "37fd276d-78e7-434c-828c-01a56acb1953",
   "metadata": {},
   "outputs": [],
   "source": [
    "fig, axs = plt.subplots(1,1,figsize=(6,4))\n",
    "# loop on filter\n",
    "for index,f in enumerate(filter_tagnames):\n",
    "    \n",
    "    axs.plot(pc.bandpass_total_std[f].wavelen,pc.bandpass_total_std[f].sb,color=filter_color[index]) \n",
    "    axs.fill_between(pc.bandpass_total_std[f].wavelen,pc.bandpass_total_std[f].sb,color=filter_color[index],alpha=0.2) \n",
    "    axs.axvline(FILTERWL[index,2],color=filter_color[index],linestyle=\"-.\")\n",
    "    \n",
    "axs.set_xlabel(\"$\\\\lambda$ (nm)\")\n",
    "axs.set_title(\"Total filter throughput (LSST)\")\n"
   ]
  },
  {
   "cell_type": "markdown",
   "id": "6175a4a4-5c98-4e09-8ffd-a17282f6094e",
   "metadata": {},
   "source": [
    "### MERRA2"
   ]
  },
  {
   "cell_type": "code",
   "execution_count": null,
   "id": "d84a85da-768d-459f-8711-54e04f2cff75",
   "metadata": {
    "tags": []
   },
   "outputs": [],
   "source": [
    "filename_m2 = f\"../data/{obs}/pwv/Merge_pwv_{obs}_inst1_2d_asm_Nx_M2I1NXASM-2017-2025.csv\"\n",
    "filename_m2b = f\"../data/{obs}/aer/Merge_aer_{obs}_tavg1_2d_aer_Nx_M2T1NXAER-2017-2025.csv\""
   ]
  },
  {
   "cell_type": "code",
   "execution_count": null,
   "id": "dd89c1b3-43c8-43ae-b10d-f39e8f8b2963",
   "metadata": {
    "tags": []
   },
   "outputs": [],
   "source": [
    "df_m = pd.read_csv(filename_m2)\n",
    "df_mb = pd.read_csv(filename_m2b)"
   ]
  },
  {
   "cell_type": "code",
   "execution_count": null,
   "id": "e1e70f0b-8123-48fc-8faa-f5f468c85a3a",
   "metadata": {},
   "outputs": [],
   "source": [
    "df_mb.columns"
   ]
  },
  {
   "cell_type": "code",
   "execution_count": null,
   "id": "0078d85a-f0a9-43f7-bb1a-30358769fe86",
   "metadata": {},
   "outputs": [],
   "source": [
    "TMIN = pd.to_datetime(df_m.time.min())\n",
    "TMAX = pd.to_datetime(df_m.time.max())"
   ]
  },
  {
   "cell_type": "code",
   "execution_count": null,
   "id": "057a8286-3c9d-42b5-bd06-d8940779ac6e",
   "metadata": {},
   "outputs": [],
   "source": [
    "pd.to_datetime(df_m.Time.values)"
   ]
  },
  {
   "cell_type": "markdown",
   "id": "ce683cae-480c-4dc7-a7fc-dc4340b8bcce",
   "metadata": {},
   "source": [
    "## Precipitable water vapor"
   ]
  },
  {
   "cell_type": "markdown",
   "id": "cf9c1c17-5c0d-48c7-9302-787580ea9f2e",
   "metadata": {},
   "source": [
    "- see the formula of log-normal on wikipedia"
   ]
  },
  {
   "cell_type": "code",
   "execution_count": null,
   "id": "3fd02994-4a05-4145-8da9-10ac7f5b920a",
   "metadata": {},
   "outputs": [],
   "source": [
    "from matplotlib.dates import DateFormatter\n",
    "#date_form = DateFormatter(\"%y-%m-%dT%H:%M\")\n",
    "date_form = DateFormatter(\"%Y\")\n",
    "\n",
    "fig = plt.figure(figsize=(18,5),layout=\"constrained\")\n",
    "gs = GridSpec(1, 2,  width_ratios=[2,1],figure=fig)\n",
    "ax1 = fig.add_subplot(gs[0])\n",
    "ax2 = fig.add_subplot(gs[1])\n",
    "        \n",
    "leg1=ax1.get_legend()\n",
    "leg2=ax2.get_legend()\n",
    "\n",
    "\n",
    "ax1.plot(pd.to_datetime(df_m.Time.values), df_m.TQV.values,c=\"b\",lw=0.5,label=\"Merra2\")\n",
    "ax1.set_xlabel(\"time\")\n",
    "ax1.xaxis.set_major_formatter(date_form)\n",
    "ax1.set_title(f\"{obs} : Precipitable water vapor from Merra2\")\n",
    "ax1.legend()\n",
    "ax1.set_ylabel(\"PWV (mm)\")\n",
    "#ax.set_xlim(TMIN,TMAX)\n",
    "\n",
    "data = df_m.TQV.values\n",
    "mean = np.mean(data)\n",
    "median = np.median(data)\n",
    "std = np.std(data)\n",
    "textstr = \"\\n\".join((f\"Expected max-range for PWV : \",\n",
    "                     f\"- sample average : {mean:.2f} mm\",\n",
    "                     f\"- sample median : {median:.2f} mm\",\n",
    "                     f\"- sample rms : {std:.2f} mm\",     \n",
    "                    ))\n",
    "ax1.text(0.05, 0.95, textstr, transform=ax1.transAxes, fontsize=14,verticalalignment='top', bbox=props)\n",
    "\n",
    "XMIN = 0.\n",
    "XMAX = 30.\n",
    "counts,xedges, _ = ax2.hist(df_m.TQV.values,bins=50,histtype=\"step\",color=\"b\",ls=\"-\",lw=3)\n",
    "xcenters = (xedges[:-1] + xedges[1:]) / 2\n",
    "\n",
    "xdata = xcenters\n",
    "ydata = counts\n",
    "\n",
    "popt, pcov = curve_fit(pdf_lognormal, xdata, ydata, p0 = [100.,1.,0.5])\n",
    "\n",
    "#---\n",
    "# formula here : https://en.wikipedia.org/wiki/Log-normal_distribution\n",
    "E_X = np.exp(popt[1]+popt[2]**2/2)\n",
    "#RMS_X = np.exp(popt[1]+popt[2]**2)\n",
    "RMS_X =  np.sqrt((np.exp(2*popt[1]+popt[2]**2))*(np.exp(popt[2]**2)-1.))\n",
    "#---\n",
    "\n",
    "sigmas = np.diag(pcov)\n",
    "xfit = np.linspace(XMIN,XMAX,50)\n",
    "yfit = pdf_lognormal(xfit,*popt)\n",
    "ax2.plot(xfit,yfit,\"-r\")\n",
    "textstr2 = \"\\n\".join((f\"log-norm parameters : \",\n",
    "                     \"- ${\\mu}$ \" + f\" : {popt[1]:.2f}\",\n",
    "                     \"- $\\sigma$\" + f\" : {popt[2]:.2f}\",   \n",
    "                     \"Calculated aver, RMS :  \",\n",
    "                     f\" - E(X) = {E_X:.2f} mm\",\n",
    "                     f\" - RMS(X) = {RMS_X:.2f} mm\" \n",
    "                    ))\n",
    "ax2.text(0.35, 0.9, textstr2, transform=ax2.transAxes, fontsize=14,verticalalignment='top', bbox=props)\n",
    "ax2.set_xlabel(\"PWV (mm)\")\n",
    "ax2.set_title(f\"{obs} : Fitted log-normal pdf\")\n",
    "\n",
    "figname =f\"{pathfigs}/{obs}_pwv_allpoints_merra2\"+figtype\n",
    "fig.savefig(figname)\n",
    "plt.show()\n"
   ]
  },
  {
   "cell_type": "markdown",
   "id": "b3d0ce2c-0969-4d73-a8df-d7e86c49b04f",
   "metadata": {},
   "source": [
    "### Simulation of PWV"
   ]
  },
  {
   "cell_type": "code",
   "execution_count": null,
   "id": "6d4dc091-ac5c-493d-9c24-2838c9d76101",
   "metadata": {},
   "outputs": [],
   "source": [
    "data_sim_pwv = np.random.lognormal(popt[1],popt[2],50000)"
   ]
  },
  {
   "cell_type": "code",
   "execution_count": null,
   "id": "b8f7f16e-36c0-4f87-8856-601c80643258",
   "metadata": {},
   "outputs": [],
   "source": [
    "fig, ax = plt.subplots(1,1,figsize=(6,4),layout=\"constrained\")\n",
    "ax.hist(data_sim_pwv,bins=100,range=(0,20),facecolor=\"b\");\n",
    "ax.set_title(f\"{obs} : simulation PWV\")\n",
    "ax.set_xlabel(\"PWV (mm)\")\n",
    "ax.text(0.5, 0.95, textstr2, transform=ax.transAxes, fontsize=14,verticalalignment='top', bbox=props)\n",
    "plt.show()"
   ]
  },
  {
   "cell_type": "markdown",
   "id": "8a907ca4-1c5d-4f6b-921a-5ca85af5abfc",
   "metadata": {},
   "source": [
    "### Compute magnitudes Dispersion in bands\n",
    "\n",
    "- Example in notebook : https://github.com/sylvielsstfr/RubinLSSTPhotometricCorrTuto/blob/23-ambre-library/notebooks/10_resolution/ComputeMagResolutionPWV_LSSTfilters.ipynb"
   ]
  },
  {
   "cell_type": "code",
   "execution_count": null,
   "id": "7ceef915-3e37-4982-b5a0-d78fe8c5c5dc",
   "metadata": {},
   "outputs": [],
   "source": [
    "am0 = 1.2\n",
    "pwv0 = np.median(data_sim_pwv)\n",
    "oz0 = 300.\n",
    "tau0 = 0\n",
    "beta0 = 1."
   ]
  },
  {
   "cell_type": "code",
   "execution_count": null,
   "id": "0230dd25-6c70-4ab5-8d7d-8ff2f4614c7a",
   "metadata": {},
   "outputs": [],
   "source": [
    "# select PWV\n",
    "all_pwv = data_sim_pwv[data_sim_pwv<15.0]"
   ]
  },
  {
   "cell_type": "code",
   "execution_count": null,
   "id": "96d87f07-aa3e-4270-8081-6cb06eed75cc",
   "metadata": {},
   "outputs": [],
   "source": [
    "NMAX = len(all_pwv)\n",
    "NSAMP = 10000\n",
    "a = np.arange(0,NMAX ,1)\n",
    "b = np.random.choice(a, size=NSAMP,replace = False)\n",
    "index_selected = np.sort(b)\n",
    "all_pwv = all_pwv[index_selected] "
   ]
  },
  {
   "cell_type": "code",
   "execution_count": null,
   "id": "a5bd2b00-8bf6-4e84-879b-60c51fa7258b",
   "metadata": {},
   "outputs": [],
   "source": [
    "pc = PhotometricCorrections(am0,pwv0,oz0,tau0,beta0)\n",
    "pc.CalculateMultiObs(am0,all_pwv,oz0,tau0,beta0)"
   ]
  },
  {
   "cell_type": "code",
   "execution_count": null,
   "id": "0d778522-1eae-42c8-931a-7c234340f6e1",
   "metadata": {},
   "outputs": [],
   "source": [
    "the_sed_flat = Sed()\n",
    "the_sed_flat.set_flat_sed()\n",
    "the_sed_flat.name = 'flat'\n",
    "zmag = 20.0\n",
    "flux_norm = the_sed_flat.calc_flux_norm(zmag, pc.bandpass_total_std['z'])\n",
    "the_sed_flat.multiply_flux_norm(flux_norm)"
   ]
  },
  {
   "cell_type": "code",
   "execution_count": null,
   "id": "b3d0a4e2-52d7-4754-a8f5-a16f782d1ea9",
   "metadata": {},
   "outputs": [],
   "source": [
    "mag_std = {}\n",
    "adu_std = {}\n",
    "atm_bands = pc.bandpass_total_std\n",
    "for index,f in enumerate(filter_tagnames) :\n",
    "    mag_std[f] = the_sed_flat.calc_mag(atm_bands[f])\n",
    "    adu_std[f] = -2.5*np.log10(the_sed_flat.calc_adu(atm_bands[f],photoparams))"
   ]
  },
  {
   "cell_type": "code",
   "execution_count": null,
   "id": "ff67dbca-3453-4271-835a-5c47004b0690",
   "metadata": {},
   "outputs": [],
   "source": [
    "df = pd.DataFrame(columns = [\"pwv\",\"magu\",\"magg\",\"magr\",\"magi\",\"magz\",\"magy\",\n",
    "                                   \"aduu\",\"adug\",\"adur\",\"adui\",\"aduz\",\"aduy\"])\n",
    "\n",
    "for idx_pwv,pwv in enumerate(all_pwv):\n",
    "    mag_nonstd = {}\n",
    "    adu_nonstd = {}\n",
    "    atm_bands = pc.coll_bandpass_total_nonstd[idx_pwv] \n",
    "    for index,f in enumerate(filter_tagnames) :\n",
    "        mag_nonstd[f] = the_sed_flat.calc_mag(atm_bands[f])\n",
    "        adu_nonstd[f] = -2.5*np.log10(the_sed_flat.calc_adu(atm_bands[f],photoparams))\n",
    "   \n",
    "    df.loc[idx_pwv] = [pwv, mag_nonstd[\"u\"],mag_nonstd[\"g\"],mag_nonstd[\"r\"],mag_nonstd[\"i\"],mag_nonstd[\"z\"],mag_nonstd[\"y\"],\n",
    "                       adu_nonstd[\"u\"],adu_nonstd[\"g\"],adu_nonstd[\"r\"],adu_nonstd[\"i\"],adu_nonstd[\"z\"],adu_nonstd[\"y\"]] \n",
    "\n",
    "df = df[[\"pwv\",\"aduu\",\"adug\",\"adur\",\"adui\",\"aduz\",\"aduy\"]]"
   ]
  },
  {
   "cell_type": "code",
   "execution_count": null,
   "id": "48db3309-2c7d-47e7-99e5-75e8a68c1364",
   "metadata": {},
   "outputs": [],
   "source": [
    "for index,f in enumerate(filter_tagnames) :\n",
    "    label_in = f'adu{f}'\n",
    "    label_out =f'd_adu{f}'\n",
    "    df[label_out] = (df[label_in]- adu_std[f])*1000. "
   ]
  },
  {
   "cell_type": "code",
   "execution_count": null,
   "id": "c139cd06-4880-438c-897e-82f1db53f7fa",
   "metadata": {},
   "outputs": [],
   "source": [
    "df = df[[\"pwv\",\"d_aduu\",\"d_adug\",\"d_adur\",\"d_adui\",\"d_aduz\",\"d_aduy\"]]"
   ]
  },
  {
   "cell_type": "code",
   "execution_count": null,
   "id": "fbe36f9a-5fc3-4393-846c-b97cb6af9fb2",
   "metadata": {},
   "outputs": [],
   "source": [
    "df.describe()"
   ]
  },
  {
   "cell_type": "code",
   "execution_count": null,
   "id": "61ddea0a-8e7a-41c6-a526-779e8f4255ca",
   "metadata": {},
   "outputs": [],
   "source": [
    "fig,axs = plt.subplots(1,3,figsize=(16,5),layout=\"constrained\")\n",
    "\n",
    "std1 = df[\"d_adui\"].agg([\"std\"])[\"std\"]\n",
    "txt1 = \"$\\sigma_i$ = \" +f\" {std1:.0f} mmag\"\n",
    "std2 = df[\"d_aduz\"].agg([\"std\"])[\"std\"]\n",
    "txt2 = \"$\\sigma_z$ = \" +f\" {std2:.0f} mmag\"\n",
    "std3 = df[\"d_aduy\"].agg([\"std\"])[\"std\"]\n",
    "txt3 = \"$\\sigma_y$ = \" +f\" {std3:.0f} mmag\"\n",
    "\n",
    "ax1,ax2,ax3 = axs.flatten()\n",
    "df[\"d_adui\"].hist(ax=ax1,bins=50,histtype=\"step\",lw=5,color=\"b\",label=txt1,linewidth=3)\n",
    "df[\"d_aduz\"].hist(ax=ax2,bins=50,histtype=\"step\",lw=5,color=\"g\",label=txt2,linewidth=3)\n",
    "df[\"d_aduy\"].hist(ax=ax3,bins=50,histtype=\"step\",lw=5,color=\"r\",label=txt3,linewidth=3)\n",
    "ax1.legend(loc=\"upper left\"); ax2.legend(loc=\"upper left\") ; ax3.legend(loc=\"upper left\")\n",
    "ax1.set_xlabel(\"i (mmag)\") ;  ax2.set_xlabel(\"z (mmag)\") ; ax3.set_xlabel(\"y (mmag)\") \n",
    "ax1.set_ylim(0.,1.3*ax1.get_ylim()[1]), ax2.set_ylim(0.,1.3*ax2.get_ylim()[1]); ax3.set_ylim(0.,1.3*ax3.get_ylim()[1])\n",
    "plt.suptitle(f\"{obs} : impact of PWV in bands, airmass = {am0}\",fontsize=20)\n",
    "plt.show()"
   ]
  },
  {
   "cell_type": "code",
   "execution_count": null,
   "id": "f6d3a59f-c2c5-4b1b-b869-aa0ec009b2e4",
   "metadata": {},
   "outputs": [],
   "source": [
    "df[\"d_R-I\"] = df[\"d_adur\"] -  df[\"d_adui\"]\n",
    "df[\"d_I-Z\"] = df[\"d_adui\"] -  df[\"d_aduz\"]\n",
    "df[\"d_Z-Y\"] = df[\"d_aduz\"] -  df[\"d_aduy\"]"
   ]
  },
  {
   "cell_type": "code",
   "execution_count": null,
   "id": "fa91f186-0384-4026-8db5-a1b232d71b3c",
   "metadata": {},
   "outputs": [],
   "source": [
    "fig,axs = plt.subplots(1,3,figsize=(16,5),layout=\"constrained\")\n",
    "\n",
    "std1 = df[\"d_R-I\"].agg([\"std\"])[\"std\"]\n",
    "txt1 = \"$\\sigma_{r-i}$ = \" +f\" {std1:.0f} mmag\"\n",
    "std2 = df[\"d_I-Z\"].agg([\"std\"])[\"std\"]\n",
    "txt2 = \"$\\sigma_{i-z}$ = \" +f\" {std2:.0f} mmag\"\n",
    "std3 = df[\"d_Z-Y\"].agg([\"std\"])[\"std\"]\n",
    "txt3 = \"$\\sigma_{z-y}$ = \" +f\" {std3:.0f} mmag\"\n",
    "\n",
    "ax1,ax2,ax3 = axs.flatten()\n",
    "df[\"d_R-I\"].hist(ax=ax1,bins=50,histtype=\"step\",lw=5,color=\"b\",label=txt1,linewidth=3)\n",
    "df[\"d_I-Z\"].hist(ax=ax2,bins=50,histtype=\"step\",lw=5,color=\"g\",label=txt2,linewidth=3)\n",
    "df[\"d_Z-Y\"].hist(ax=ax3,bins=50,histtype=\"step\",lw=5,color=\"r\",label=txt3,linewidth=3)\n",
    "ax1.legend(loc=\"upper left\"); ax2.legend(loc=\"upper left\") ; ax3.legend(loc=\"upper left\")\n",
    "ax1.set_xlabel(\"r-i (mmag)\") ;  ax2.set_xlabel(\"i-z (mmag)\") ; ax3.set_xlabel(\"z-y (mmag)\") \n",
    "ax1.set_ylim(0.,1.3*ax1.get_ylim()[1]), ax2.set_ylim(0.,1.3*ax2.get_ylim()[1]); ax3.set_ylim(0.,1.3*ax3.get_ylim()[1])\n",
    "plt.suptitle(f\"{obs} : impact of PWV in colors, airmass = {am0}\",fontsize=20)\n",
    "plt.show()"
   ]
  },
  {
   "cell_type": "markdown",
   "id": "bcc25276-3c15-4a16-836c-84caf2bc4194",
   "metadata": {},
   "source": [
    "## Ozone"
   ]
  },
  {
   "cell_type": "code",
   "execution_count": null,
   "id": "fbe59757-4742-4a83-b5b6-a43953a6c5d4",
   "metadata": {},
   "outputs": [],
   "source": [
    "from matplotlib.dates import DateFormatter\n",
    "#date_form = DateFormatter(\"%y-%m-%dT%H:%M\")\n",
    "date_form = DateFormatter(\"%Y\")\n",
    "\n",
    "fig = plt.figure(figsize=(18,5),layout=\"constrained\")\n",
    "gs = GridSpec(1, 2,  width_ratios=[2,1],figure=fig)\n",
    "ax1 = fig.add_subplot(gs[0])\n",
    "ax2 = fig.add_subplot(gs[1])\n",
    "        \n",
    "leg1=ax1.get_legend()\n",
    "leg2=ax2.get_legend()\n",
    "\n",
    "\n",
    "ax1.plot(pd.to_datetime(df_m.Time.values), df_m.TO3.values,c=\"r\",lw=0.5,label=\"Merra2\")\n",
    "ax1.set_xlabel(\"time\")\n",
    "ax1.xaxis.set_major_formatter(date_form)\n",
    "ax1.set_title(f\" {obs} : Ozone from Merra2\")\n",
    "#ax1.legend()\n",
    "ax1.set_ylabel(\"Ozone (HU)\")\n",
    "#ax.set_xlim(TMIN,TMAX)\n",
    "\n",
    "data = df_m.TO3.values\n",
    "mean = np.mean(data)\n",
    "median = np.median(data)\n",
    "std = np.std(data)\n",
    "textstr = \"\\n\".join((f\"Expected range for Ozone : \",\n",
    "                     f\"- sample average : {mean:.2f} DU\",\n",
    "                     f\"- sample median : {median:.2f} DU\",\n",
    "                     f\"- sample sigma : {std:.2f} DU\",     \n",
    "                    ))\n",
    "ax1.text(0.05, 0.95, textstr, transform=ax1.transAxes, fontsize=14,verticalalignment='top', bbox=props)\n",
    "\n",
    "\n",
    "\n",
    "\n",
    "XMIN = 0.\n",
    "XMAX = 600.\n",
    "counts,xedges, _ = ax2.hist(df_m.TO3.values,bins=50,histtype=\"step\",color=\"b\",ls=\"-\",lw=3)\n",
    "xcenters = (xedges[:-1] + xedges[1:]) / 2\n",
    "\n",
    "xdata = xcenters\n",
    "ydata = counts\n",
    "\n",
    "popt, pcov = curve_fit(pdf_lognormal, xdata, ydata, p0 = [100.,300.,100])\n",
    "#popt, pcov = curve_fit(pdf_normal, xdata, ydata, p0 = [1000.,300.,10])\n",
    "\n",
    "#---\n",
    "# formula here : https://en.wikipedia.org/wiki/Log-normal_distribution\n",
    "E_X = np.exp(popt[1]+popt[2]**2/2)\n",
    "#RMS_X = np.exp(popt[1]+popt[2]**2)\n",
    "RMS_X =  np.sqrt((np.exp(2*popt[1]+popt[2]**2))*(np.exp(popt[2]**2)-1.))\n",
    "#---\n",
    "#E_X =popt[1]\n",
    "#RMS_X = popt[2]\n",
    "\n",
    "sigmas = np.diag(pcov)\n",
    "xfit = np.linspace(XMIN,XMAX,100)\n",
    "yfit = pdf_lognormal(xfit,*popt)\n",
    "ax2.plot(xfit,yfit,\"-r\")\n",
    "\n",
    "textstr2 = \"\\n\".join((f\"log-norm parameters : \",\n",
    "                     \"- ${\\mu}$ \" + f\" : {popt[1]:.2f}\",\n",
    "                     \"- $\\sigma$\" + f\" : {popt[2]:.2f}\",   \n",
    "                     \"Calculated aver, RMS :  \",\n",
    "                     f\" - E(X) = {E_X:.2f} DU\",\n",
    "                     f\" - RMS(X) = {RMS_X:.2f} DU\" \n",
    "                    ))\n",
    "\n",
    "ax2.text(0.05, 0.9, textstr2, transform=ax2.transAxes, fontsize=14,verticalalignment='top', bbox=props)\n",
    "ax2.set_xlabel(\"Ozone (DU)\")\n",
    "ax2.set_title(f\"{obs} : Fitted log-normal pdf\")\n",
    "\n",
    "\n",
    "figname =f\"{pathfigs}/{obs}_ozone_allpoints_merra2\"+figtype\n",
    "fig.savefig(figname)\n",
    "plt.show()\n"
   ]
  },
  {
   "cell_type": "markdown",
   "id": "77874767-5c2d-4528-b1ed-ec382e5976e7",
   "metadata": {},
   "source": [
    "### Simulation of Ozone"
   ]
  },
  {
   "cell_type": "code",
   "execution_count": null,
   "id": "d2fa9195-5eae-4c64-ac5e-86ae806cbfda",
   "metadata": {},
   "outputs": [],
   "source": [
    "data_sim_o3 = np.random.lognormal(popt[1],popt[2],50000)"
   ]
  },
  {
   "cell_type": "code",
   "execution_count": null,
   "id": "676ee8b4-e7fc-4e70-adc7-02940b07d825",
   "metadata": {},
   "outputs": [],
   "source": [
    "fig, ax = plt.subplots(1,1,figsize=(6,4),layout=\"constrained\")\n",
    "ax.hist(data_sim_o3,bins=100,range=(0,600),facecolor=\"r\");\n",
    "ax.set_title(f\"{obs} : simulation of Ozone\")\n",
    "ax.set_xlabel(\"Ozone (DU)\")\n",
    "ax.text(0.01, 0.95, textstr2, transform=ax.transAxes, fontsize=14,verticalalignment='top', bbox=props)\n",
    "plt.show()"
   ]
  },
  {
   "cell_type": "markdown",
   "id": "928d247f-b2da-4c4f-aa8f-2bcd71864a6a",
   "metadata": {},
   "source": [
    "### Compute magnitudes Dispersion in bands\n",
    "\n",
    "- Example in notebook : https://github.com/sylvielsstfr/RubinLSSTPhotometricCorrTuto/blob/23-ambre-library/notebooks/10_resolution/ComputeMagResolutionPWV_LSSTfilters.ipynb"
   ]
  },
  {
   "cell_type": "code",
   "execution_count": null,
   "id": "a0538fff-dca6-42a5-b92f-c10155edbf4a",
   "metadata": {},
   "outputs": [],
   "source": [
    "am0 = 1.2\n",
    "pwv0 = 5.\n",
    "oz0 = np.median(data_sim_o3)\n",
    "tau0 = 0\n",
    "beta0 = 1."
   ]
  },
  {
   "cell_type": "code",
   "execution_count": null,
   "id": "8081290a-b7cd-4337-a585-4933f1ec38a2",
   "metadata": {},
   "outputs": [],
   "source": [
    "all_ozone = data_sim_o3[data_sim_o3<600]"
   ]
  },
  {
   "cell_type": "code",
   "execution_count": null,
   "id": "0152f03b-8d6a-460d-ab34-a122f320a78b",
   "metadata": {},
   "outputs": [],
   "source": [
    "NMAX = len(all_ozone)\n",
    "NSAMP = 10000\n",
    "a = np.arange(0,NMAX ,1)\n",
    "b = np.random.choice(a, size=NSAMP,replace = False)\n",
    "index_selected = np.sort(b)\n",
    "all_ozone = all_ozone[index_selected] "
   ]
  },
  {
   "cell_type": "code",
   "execution_count": null,
   "id": "be3e11cc-22b8-43b9-a6ca-53f1fb850434",
   "metadata": {},
   "outputs": [],
   "source": [
    "pc = PhotometricCorrections(am0,pwv0,oz0,tau0,beta0)\n",
    "pc.CalculateMultiObs(am0,pwv0,all_ozone,tau0,beta0)"
   ]
  },
  {
   "cell_type": "code",
   "execution_count": null,
   "id": "ec0eeda3-1d83-49d2-b36c-943c4072a36f",
   "metadata": {},
   "outputs": [],
   "source": [
    "mag_std = {}\n",
    "adu_std = {}\n",
    "atm_bands = pc.bandpass_total_std\n",
    "for index,f in enumerate(filter_tagnames) :\n",
    "    mag_std[f] = the_sed_flat.calc_mag(atm_bands[f])\n",
    "    adu_std[f] = -2.5*np.log10(the_sed_flat.calc_adu(atm_bands[f],photoparams))"
   ]
  },
  {
   "cell_type": "code",
   "execution_count": null,
   "id": "702b2e84-7e93-4347-a939-a8ea3705a836",
   "metadata": {},
   "outputs": [],
   "source": [
    "df = pd.DataFrame(columns = [\"oz\",\"magu\",\"magg\",\"magr\",\"magi\",\"magz\",\"magy\",\n",
    "                                   \"aduu\",\"adug\",\"adur\",\"adui\",\"aduz\",\"aduy\"])\n",
    "\n",
    "for idx_oz,oz in enumerate(all_ozone):\n",
    "    mag_nonstd = {}\n",
    "    adu_nonstd = {}\n",
    "    atm_bands = pc.coll_bandpass_total_nonstd[idx_oz] \n",
    "    for index,f in enumerate(filter_tagnames) :\n",
    "        mag_nonstd[f] = the_sed_flat.calc_mag(atm_bands[f])\n",
    "        adu_nonstd[f] = -2.5*np.log10(the_sed_flat.calc_adu(atm_bands[f],photoparams))\n",
    "   \n",
    "    df.loc[idx_oz] = [oz, mag_nonstd[\"u\"],mag_nonstd[\"g\"],mag_nonstd[\"r\"],mag_nonstd[\"i\"],mag_nonstd[\"z\"],mag_nonstd[\"y\"],\n",
    "                       adu_nonstd[\"u\"],adu_nonstd[\"g\"],adu_nonstd[\"r\"],adu_nonstd[\"i\"],adu_nonstd[\"z\"],adu_nonstd[\"y\"]] \n",
    "\n",
    "df = df[[\"oz\",\"aduu\",\"adug\",\"adur\",\"adui\",\"aduz\",\"aduy\"]]"
   ]
  },
  {
   "cell_type": "code",
   "execution_count": null,
   "id": "2ee6fece-c0e5-4481-92b8-248884925821",
   "metadata": {},
   "outputs": [],
   "source": [
    "for index,f in enumerate(filter_tagnames) :\n",
    "    label_in = f'adu{f}'\n",
    "    label_out =f'd_adu{f}'\n",
    "    df[label_out] = (df[label_in]- adu_std[f])*1000. "
   ]
  },
  {
   "cell_type": "code",
   "execution_count": null,
   "id": "67f7eebc-cb97-4b75-884d-558459730006",
   "metadata": {},
   "outputs": [],
   "source": [
    "df = df[[\"oz\",\"d_aduu\",\"d_adug\",\"d_adur\",\"d_adui\",\"d_aduz\",\"d_aduy\"]]"
   ]
  },
  {
   "cell_type": "code",
   "execution_count": null,
   "id": "11c4be75-3e0c-4a5f-bb8f-54852a5662a5",
   "metadata": {},
   "outputs": [],
   "source": [
    "df.describe()"
   ]
  },
  {
   "cell_type": "code",
   "execution_count": null,
   "id": "3a289530-6ac5-4687-b70d-14c6ac54f4ce",
   "metadata": {},
   "outputs": [],
   "source": [
    "fig,axs = plt.subplots(1,3,figsize=(16,5),layout=\"constrained\")\n",
    "\n",
    "std1 = df[\"d_aduu\"].agg([\"std\"])[\"std\"]\n",
    "txt1 = \"$\\sigma_u$ = \" +f\" {std1:.2f} mmag\"\n",
    "std2 = df[\"d_adug\"].agg([\"std\"])[\"std\"]\n",
    "txt2 = \"$\\sigma_g$ = \" +f\" {std2:.2f} mmag\"\n",
    "std3 = df[\"d_adur\"].agg([\"std\"])[\"std\"]\n",
    "txt3 = \"$\\sigma_r$ = \" +f\" {std3:.2f} mmag\"\n",
    "\n",
    "ax1,ax2,ax3 = axs.flatten()\n",
    "df[\"d_aduu\"].hist(ax=ax1,bins=50,histtype=\"step\",lw=5,color=\"b\",label=txt1,linewidth=3)\n",
    "df[\"d_adug\"].hist(ax=ax2,bins=50,histtype=\"step\",lw=5,color=\"g\",label=txt2,linewidth=3)\n",
    "df[\"d_adur\"].hist(ax=ax3,bins=50,histtype=\"step\",lw=5,color=\"r\",label=txt3,linewidth=3)\n",
    "ax1.legend(loc=\"upper left\"); ax2.legend(loc=\"upper left\") ; ax3.legend(loc=\"upper left\")\n",
    "ax1.set_xlabel(\"u (mmag)\") ;  ax2.set_xlabel(\"g (mmag)\") ; ax3.set_xlabel(\"r (mmag)\") \n",
    "ax1.set_ylim(0.,1.3*ax1.get_ylim()[1]), ax2.set_ylim(0.,1.3*ax2.get_ylim()[1]); ax3.set_ylim(0.,1.3*ax3.get_ylim()[1])\n",
    "plt.suptitle(f\"{obs} : impact of Ozone in bands, airmass = {am0}\",fontsize=20)\n",
    "plt.show()"
   ]
  },
  {
   "cell_type": "code",
   "execution_count": null,
   "id": "e67a6e46-9698-4c12-b8c0-bece5e5cdb68",
   "metadata": {},
   "outputs": [],
   "source": [
    "df[\"d_U-G\"] = df[\"d_aduu\"] -  df[\"d_adug\"]\n",
    "df[\"d_G-R\"] = df[\"d_adug\"] -  df[\"d_adur\"]\n",
    "df[\"d_R-I\"] = df[\"d_adur\"] -  df[\"d_adui\"]"
   ]
  },
  {
   "cell_type": "code",
   "execution_count": null,
   "id": "8190d9f1-6228-4c52-86a2-e7ef2706dee8",
   "metadata": {},
   "outputs": [],
   "source": [
    "fig,axs = plt.subplots(1,3,figsize=(16,5),layout=\"constrained\")\n",
    "\n",
    "std1 = df[\"d_U-G\"].agg([\"std\"])[\"std\"]\n",
    "txt1 = \"$\\sigma_{u-g}$ = \" +f\" {std1:.2f} mmag\"\n",
    "std2 = df[\"d_G-R\"].agg([\"std\"])[\"std\"]\n",
    "txt2 = \"$\\sigma_{g-r}$ = \" +f\" {std2:.2f} mmag\"\n",
    "std3 = df[\"d_R-I\"].agg([\"std\"])[\"std\"]\n",
    "txt3 = \"$\\sigma_{r-i}$ = \" +f\" {std3:.2f} mmag\"\n",
    "\n",
    "ax1,ax2,ax3 = axs.flatten()\n",
    "df[\"d_U-G\"].hist(ax=ax1,bins=50,histtype=\"step\",lw=5,color=\"b\",label=txt1,linewidth=3)\n",
    "df[\"d_G-R\"].hist(ax=ax2,bins=50,histtype=\"step\",lw=5,color=\"g\",label=txt2,linewidth=3)\n",
    "df[\"d_R-I\"].hist(ax=ax3,bins=50,histtype=\"step\",lw=5,color=\"r\",label=txt3,linewidth=3)\n",
    "ax1.legend(loc=\"upper left\"); ax2.legend(loc=\"upper left\") ; ax3.legend(loc=\"upper left\")\n",
    "ax1.set_xlabel(\"u-g (mmag)\") ;  ax2.set_xlabel(\"g-r (mmag)\") ; ax3.set_xlabel(\"r-i (mmag)\") \n",
    "ax1.set_ylim(0.,1.3*ax1.get_ylim()[1]), ax2.set_ylim(0.,1.3*ax2.get_ylim()[1]); ax3.set_ylim(0.,1.3*ax3.get_ylim()[1])\n",
    "plt.suptitle(f\"{obs} : impact of Ozone in colors, airmass = {am0}\",fontsize=20)\n",
    "plt.show()"
   ]
  },
  {
   "cell_type": "markdown",
   "id": "0fb244d8-02b0-4f4f-89cd-295b77e8b410",
   "metadata": {},
   "source": [
    "## Aerosols : VAOD"
   ]
  },
  {
   "cell_type": "code",
   "execution_count": null,
   "id": "8424c184-6bc3-4adf-942a-cffd5f9b924f",
   "metadata": {},
   "outputs": [],
   "source": [
    "from matplotlib.dates import DateFormatter\n",
    "#date_form = DateFormatter(\"%y-%m-%dT%H:%M\")\n",
    "date_form = DateFormatter(\"%Y\")\n",
    "\n",
    "fig = plt.figure(figsize=(18,5),layout=\"constrained\")\n",
    "gs = GridSpec(1, 2,  width_ratios=[2,1],figure=fig)\n",
    "ax1 = fig.add_subplot(gs[0])\n",
    "ax2 = fig.add_subplot(gs[1])\n",
    "        \n",
    "leg1=ax1.get_legend()\n",
    "leg2=ax2.get_legend()\n",
    "\n",
    "\n",
    "ax1.plot(pd.to_datetime(df_mb.Time.values), df_mb.TOTEXTTAU.values,c=\"g\",lw=0.5,label=\"Merra2\")\n",
    "ax1.set_xlabel(\"time\")\n",
    "ax1.xaxis.set_major_formatter(date_form)\n",
    "ax1.set_title(f\"{obs} : VAOD from Merra2\")\n",
    "ax1.legend()\n",
    "ax1.set_ylabel(\"VAOD\")\n",
    "#ax.set_xlim(TMIN,TMAX)\n",
    "data = df_mb.TOTEXTTAU.values\n",
    "mean = np.mean(data)\n",
    "median = np.median(data)\n",
    "std = np.std(data)\n",
    "textstr = \"\\n\".join((f\"Expected max-range for VAOD : \",\n",
    "                     f\"- sample average : {mean:.3f}\",\n",
    "                     f\"- sample median : {median:.3f}\",\n",
    "                     f\"- sample sigma : {std:.3f}\",     \n",
    "                    ))\n",
    "ax1.text(0.05, 0.95, textstr, transform=ax1.transAxes, fontsize=14,verticalalignment='top', bbox=props)\n",
    "\n",
    "\n",
    "XMIN = 0.\n",
    "XMAX = 0.3\n",
    "counts,xedges, _ = ax2.hist(df_mb.TOTEXTTAU.values,bins=50,histtype=\"step\",color=\"g\",ls=\"-\",lw=3)\n",
    "xcenters = (xedges[:-1] + xedges[1:]) / 2\n",
    "\n",
    "xdata = xcenters\n",
    "ydata = counts\n",
    "\n",
    "popt, pcov = curve_fit(pdf_lognormal, xdata, ydata, p0 = [100.,1.,0.5])\n",
    "\n",
    "#---\n",
    "# formula here : https://en.wikipedia.org/wiki/Log-normal_distribution\n",
    "E_X = np.exp(popt[1]+popt[2]**2/2)\n",
    "#RMS_X = np.exp(popt[1]+popt[2]**2)\n",
    "RMS_X =  np.sqrt((np.exp(2*popt[1]+popt[2]**2))*(np.exp(popt[2]**2)-1.))\n",
    "#---\n",
    "\n",
    "\n",
    "sigmas = np.diag(pcov)\n",
    "xfit = np.linspace(XMIN,XMAX,100)\n",
    "yfit = pdf_lognormal(xfit,*popt)\n",
    "ax2.plot(xfit,yfit,\"-r\")\n",
    "\n",
    "\n",
    "textstr2 = \"\\n\".join((f\"log-norm parameters : \",\n",
    "                     \"- ${\\mu}$ \" + f\" : {popt[1]:.2f}\",\n",
    "                     \"- $\\sigma$\" + f\" : {popt[2]:.2f}\",   \n",
    "                     \"Calculated aver, RMS :  \",\n",
    "                     f\" - E(X) = {E_X:.3f} \",\n",
    "                     f\" - RMS(X) = {RMS_X:.3f}\" \n",
    "                    ))\n",
    "\n",
    "\n",
    "ax2.text(0.15, 0.9, textstr2, transform=ax2.transAxes, fontsize=14,verticalalignment='top', bbox=props)\n",
    "ax2.set_xlabel(\"VAOD\")\n",
    "ax2.set_title(f\"{obs} : Fitted log-normal pdf\")\n",
    "\n",
    "\n",
    "figname =f\"{pathfigs}/{obs}_vaod_allpoints_merra2\"+figtype\n",
    "fig.savefig(figname)\n",
    "plt.show()\n"
   ]
  },
  {
   "cell_type": "markdown",
   "id": "7d88fcd4-ab7c-4b86-9eb2-1b048ce95bc7",
   "metadata": {},
   "source": [
    "### Simulation of Aerosols - VAOD"
   ]
  },
  {
   "cell_type": "code",
   "execution_count": null,
   "id": "8f7441bc-3970-4b16-95c6-ec8848e9afee",
   "metadata": {},
   "outputs": [],
   "source": [
    "data_sim_vaod = np.random.lognormal(popt[1],popt[2],50000)"
   ]
  },
  {
   "cell_type": "code",
   "execution_count": null,
   "id": "9fc3ab3e-da5b-4d84-9fd0-f134b8301044",
   "metadata": {},
   "outputs": [],
   "source": [
    "fig, ax = plt.subplots(1,1,figsize=(6,4),layout=\"constrained\")\n",
    "ax.hist(data_sim_vaod,bins=100,range=(0.,0.2),facecolor=\"g\");\n",
    "ax.set_title(f\"{obs} : simulation of Aerosols - VAOD\")\n",
    "ax.set_xlabel(\"VAOD\")\n",
    "ax.text(0.5, 0.95, textstr2, transform=ax.transAxes, fontsize=14,verticalalignment='top', bbox=props)\n",
    "plt.show()"
   ]
  },
  {
   "cell_type": "markdown",
   "id": "25d0e30e-c06e-464f-88d5-244e7f73f9d0",
   "metadata": {},
   "source": [
    "### Compute magnitudes Dispersion in bands\n",
    "\n",
    "- Example in notebook : https://github.com/sylvielsstfr/RubinLSSTPhotometricCorrTuto/blob/23-ambre-library/notebooks/10_resolution/ComputeMagResolutionPWV_LSSTfilters.ipynb"
   ]
  },
  {
   "cell_type": "code",
   "execution_count": null,
   "id": "c0dd8864-db00-43ea-9a98-04eab6a3e150",
   "metadata": {},
   "outputs": [],
   "source": [
    "am0 = 1.2\n",
    "pwv0 = 5.\n",
    "oz0 = 300.\n",
    "tau0 = np.median(data_sim_vaod) \n",
    "beta0 = 1.4"
   ]
  },
  {
   "cell_type": "code",
   "execution_count": null,
   "id": "a733b5cc-7cb4-41c5-b866-05e7478fccb3",
   "metadata": {},
   "outputs": [],
   "source": [
    "all_taus = data_sim_vaod"
   ]
  },
  {
   "cell_type": "code",
   "execution_count": null,
   "id": "e5fe5ed6-d536-4962-aa57-4504977dbbc8",
   "metadata": {},
   "outputs": [],
   "source": [
    "NMAX = len(all_taus)\n",
    "NSAMP = 10000\n",
    "a = np.arange(0,NMAX ,1)\n",
    "b = np.random.choice(a, size=NSAMP,replace = False)\n",
    "index_selected = np.sort(b)\n",
    "all_taus = all_taus[index_selected] "
   ]
  },
  {
   "cell_type": "code",
   "execution_count": null,
   "id": "3e0500e2-7a5d-439e-8cb0-052f5d672e54",
   "metadata": {},
   "outputs": [],
   "source": [
    "pc = PhotometricCorrections(am0,pwv0,oz0,tau0,beta0)\n",
    "pc.CalculateMultiObs(am0,pwv0,oz0,all_taus,beta0)"
   ]
  },
  {
   "cell_type": "code",
   "execution_count": null,
   "id": "5fe8c622-e5bb-4fb4-9abb-8598a9823d52",
   "metadata": {},
   "outputs": [],
   "source": [
    "mag_std = {}\n",
    "adu_std = {}\n",
    "atm_bands = pc.bandpass_total_std\n",
    "for index,f in enumerate(filter_tagnames) :\n",
    "    mag_std[f] = the_sed_flat.calc_mag(atm_bands[f])\n",
    "    adu_std[f] = -2.5*np.log10(the_sed_flat.calc_adu(atm_bands[f],photoparams))"
   ]
  },
  {
   "cell_type": "code",
   "execution_count": null,
   "id": "95b5d22d-bd21-429c-a358-7c77d282ac54",
   "metadata": {},
   "outputs": [],
   "source": [
    "df = pd.DataFrame(columns = [\"tau\",\"magu\",\"magg\",\"magr\",\"magi\",\"magz\",\"magy\",\n",
    "                                   \"aduu\",\"adug\",\"adur\",\"adui\",\"aduz\",\"aduy\"])\n",
    "\n",
    "for idx_tau,tau in enumerate(all_taus):\n",
    "    mag_nonstd = {}\n",
    "    adu_nonstd = {}\n",
    "    atm_bands = pc.coll_bandpass_total_nonstd[idx_tau] \n",
    "    for index,f in enumerate(filter_tagnames) :\n",
    "        mag_nonstd[f] = the_sed_flat.calc_mag(atm_bands[f])\n",
    "        adu_nonstd[f] = -2.5*np.log10(the_sed_flat.calc_adu(atm_bands[f],photoparams))\n",
    "   \n",
    "    df.loc[idx_tau] = [tau, mag_nonstd[\"u\"],mag_nonstd[\"g\"],mag_nonstd[\"r\"],mag_nonstd[\"i\"],mag_nonstd[\"z\"],mag_nonstd[\"y\"],\n",
    "                       adu_nonstd[\"u\"],adu_nonstd[\"g\"],adu_nonstd[\"r\"],adu_nonstd[\"i\"],adu_nonstd[\"z\"],adu_nonstd[\"y\"]] \n",
    "\n",
    "df = df[[\"tau\",\"aduu\",\"adug\",\"adur\",\"adui\",\"aduz\",\"aduy\"]]"
   ]
  },
  {
   "cell_type": "code",
   "execution_count": null,
   "id": "fb1fa12e-f36e-47a8-9d38-4bef0cc6df70",
   "metadata": {},
   "outputs": [],
   "source": [
    "for index,f in enumerate(filter_tagnames) :\n",
    "    label_in = f'adu{f}'\n",
    "    label_out =f'd_adu{f}'\n",
    "    df[label_out] = (df[label_in]- adu_std[f])*1000. "
   ]
  },
  {
   "cell_type": "code",
   "execution_count": null,
   "id": "545afebb-326c-4e8e-bd54-808e2fa8e837",
   "metadata": {},
   "outputs": [],
   "source": [
    "df = df[[\"tau\",\"d_aduu\",\"d_adug\",\"d_adur\",\"d_adui\",\"d_aduz\",\"d_aduy\"]]"
   ]
  },
  {
   "cell_type": "code",
   "execution_count": null,
   "id": "22dfd1e2-e05f-472a-b658-f0f0869b9333",
   "metadata": {},
   "outputs": [],
   "source": [
    "df.describe()"
   ]
  },
  {
   "cell_type": "code",
   "execution_count": null,
   "id": "12dd6daa-96b4-468b-9d79-7a7805b1241e",
   "metadata": {},
   "outputs": [],
   "source": [
    "fig,axs = plt.subplots(1,3,figsize=(16,5),layout=\"constrained\")\n",
    "\n",
    "std1 = df[\"d_aduu\"].agg([\"std\"])[\"std\"]\n",
    "txt1 = \"$\\sigma_u$ = \" +f\" {std1:.0f} mmag\"\n",
    "std2 = df[\"d_adug\"].agg([\"std\"])[\"std\"]\n",
    "txt2 = \"$\\sigma_g$ = \" +f\" {std2:.0f} mmag\"\n",
    "std3 = df[\"d_adur\"].agg([\"std\"])[\"std\"]\n",
    "txt3 = \"$\\sigma_r$ = \" +f\" {std3:.0f} mmag\"\n",
    "\n",
    "ax1,ax2,ax3 = axs.flatten()\n",
    "df[\"d_aduu\"].hist(ax=ax1,bins=50,histtype=\"step\",lw=5,color=\"b\",label=txt1,linewidth=3)\n",
    "df[\"d_adug\"].hist(ax=ax2,bins=50,histtype=\"step\",lw=5,color=\"g\",label=txt2,linewidth=3)\n",
    "df[\"d_adur\"].hist(ax=ax3,bins=50,histtype=\"step\",lw=5,color=\"r\",label=txt3,linewidth=3)\n",
    "ax1.legend(loc=\"upper left\"); ax2.legend(loc=\"upper left\") ; ax3.legend(loc=\"upper left\")\n",
    "ax1.set_xlabel(\"u (mmag)\") ;  ax2.set_xlabel(\"g (mmag)\") ; ax3.set_xlabel(\"r (mmag)\") \n",
    "ax1.set_ylim(0.,1.3*ax1.get_ylim()[1]), ax2.set_ylim(0.,1.3*ax2.get_ylim()[1]); ax3.set_ylim(0.,1.3*ax3.get_ylim()[1])\n",
    "ax1.set_xlim(-200,200.); ax2.set_xlim(-200,200.); ax3.set_xlim(-200,200.); \n",
    "plt.suptitle(f\"{obs} : impact of aerosols VAOD in bands, airmass = {am0}\",fontsize=20)\n",
    "plt.show()"
   ]
  },
  {
   "cell_type": "code",
   "execution_count": null,
   "id": "5fdd30fc-a5ac-436d-a037-bb7bb03c6917",
   "metadata": {},
   "outputs": [],
   "source": [
    "df[\"d_U-G\"] = df[\"d_aduu\"] -  df[\"d_adug\"]\n",
    "df[\"d_G-R\"] = df[\"d_adug\"] -  df[\"d_adur\"]\n",
    "df[\"d_R-I\"] = df[\"d_adur\"] -  df[\"d_adui\"]"
   ]
  },
  {
   "cell_type": "code",
   "execution_count": null,
   "id": "c9dba11d-7455-4bb2-b227-25d7b0833438",
   "metadata": {},
   "outputs": [],
   "source": [
    "fig,axs = plt.subplots(1,3,figsize=(16,5),layout=\"constrained\")\n",
    "\n",
    "std1 = df[\"d_U-G\"].agg([\"std\"])[\"std\"]\n",
    "txt1 = \"$\\sigma_{u-g}$ = \" +f\" {std1:.0f} mmag\"\n",
    "std2 = df[\"d_G-R\"].agg([\"std\"])[\"std\"]\n",
    "txt2 = \"$\\sigma_{g-r}$ = \" +f\" {std2:.0f} mmag\"\n",
    "std3 = df[\"d_R-I\"].agg([\"std\"])[\"std\"]\n",
    "txt3 = \"$\\sigma_{r-i}$ = \" +f\" {std3:.0f} mmag\"\n",
    "\n",
    "ax1,ax2,ax3 = axs.flatten()\n",
    "df[\"d_U-G\"].hist(ax=ax1,bins=50,histtype=\"step\",lw=5,color=\"b\",label=txt1,linewidth=3)\n",
    "df[\"d_G-R\"].hist(ax=ax2,bins=50,histtype=\"step\",lw=5,color=\"g\",label=txt2,linewidth=3)\n",
    "df[\"d_R-I\"].hist(ax=ax3,bins=50,histtype=\"step\",lw=5,color=\"r\",label=txt3,linewidth=3)\n",
    "ax1.legend(loc=\"upper left\"); ax2.legend(loc=\"upper left\") ; ax3.legend(loc=\"upper left\")\n",
    "ax1.set_xlabel(\"u-g (mmag)\") ;  ax2.set_xlabel(\"g-r (mmag)\") ; ax3.set_xlabel(\"r-i (mmag)\") \n",
    "ax1.set_ylim(0.,1.3*ax1.get_ylim()[1]), ax2.set_ylim(0.,1.3*ax2.get_ylim()[1]); ax3.set_ylim(0.,1.3*ax3.get_ylim()[1])\n",
    "ax1.set_xlim(-100,100.); ax2.set_xlim(-100,100.); ax3.set_xlim(-100,100.); \n",
    "plt.suptitle(f\"{obs} : impact of aerosols VAOD, airmass = {am0}\",fontsize=20)\n",
    "plt.show()"
   ]
  },
  {
   "cell_type": "markdown",
   "id": "140fd6a5-b175-4ef1-b72f-1358804f549a",
   "metadata": {},
   "source": [
    "## Aerosols - Angstrom Exponent"
   ]
  },
  {
   "cell_type": "code",
   "execution_count": null,
   "id": "bdbbe50f-56ca-4c7d-ae34-ea25d0e6b07d",
   "metadata": {},
   "outputs": [],
   "source": [
    "from matplotlib.dates import DateFormatter\n",
    "#date_form = DateFormatter(\"%y-%m-%dT%H:%M\")\n",
    "date_form = DateFormatter(\"%Y\")\n",
    "\n",
    "fig = plt.figure(figsize=(18,5),layout=\"constrained\")\n",
    "gs = GridSpec(1, 2,  width_ratios=[2,1],figure=fig)\n",
    "ax1 = fig.add_subplot(gs[0])\n",
    "ax2 = fig.add_subplot(gs[1])\n",
    "        \n",
    "leg1=ax1.get_legend()\n",
    "leg2=ax2.get_legend()\n",
    "\n",
    "\n",
    "ax1.plot(pd.to_datetime(df_mb.Time.values), df_mb.TOTANGSTR.values,c=\"purple\",lw=0.5,label=\"Merra2\")\n",
    "ax1.set_xlabel(\"time\")\n",
    "ax1.xaxis.set_major_formatter(date_form)\n",
    "ax1.set_title(f\"{obs} : Aerosols Angstrom exponent from Merra2\")\n",
    "ax1.legend()\n",
    "ax1.set_ylabel(\"Aer Angstrom expon\")\n",
    "#ax.set_xlim(TMIN,TMAX)\n",
    "data = df_mb.TOTANGSTR.values\n",
    "mean = np.mean(data)\n",
    "median = np.median(data)\n",
    "std = np.std(data)\n",
    "textstr = \"\\n\".join((f\"Expected max-range for VAOD-Angstrom : \",\n",
    "                     f\"- sample average : {mean:.3f}\",\n",
    "                     f\"- sample median : {median:.3f}\",\n",
    "                     f\"- sample sigma : {std:.3f}\",     \n",
    "                    ))\n",
    "ax1.text(0.05, 0.95, textstr, transform=ax1.transAxes, fontsize=14,verticalalignment='top', bbox=props)\n",
    "\n",
    "\n",
    "\n",
    "XMIN = 0.\n",
    "XMAX = 3.\n",
    "counts,xedges, _ = ax2.hist(df_mb.TOTANGSTR.values,bins=50,histtype=\"step\",color=\"purple\",ls=\"-\",lw=3)\n",
    "xcenters = (xedges[:-1] + xedges[1:]) / 2\n",
    "\n",
    "xdata = xcenters\n",
    "ydata = counts\n",
    "\n",
    "popt, pcov = curve_fit(pdf_lognormal, xdata, ydata, p0 = [100.,1.,0.5])\n",
    "\n",
    "#---\n",
    "# formula here : https://en.wikipedia.org/wiki/Log-normal_distribution\n",
    "E_X = np.exp(popt[1]+popt[2]**2/2)\n",
    "#RMS_X = np.exp(popt[1]+popt[2]**2)\n",
    "RMS_X =  np.sqrt((np.exp(2*popt[1]+popt[2]**2))*(np.exp(popt[2]**2)-1.))\n",
    "#---\n",
    "\n",
    "sigmas = np.diag(pcov)\n",
    "xfit = np.linspace(XMIN,XMAX,100)\n",
    "yfit = pdf_lognormal(xfit,*popt)\n",
    "ax2.plot(xfit,yfit,\"-r\")\n",
    "\n",
    "textstr2 = \"\\n\".join((f\"log-norm parameters : \",\n",
    "                     \"- ${\\mu}$ \" + f\" : {popt[1]:.2f}\",\n",
    "                     \"- $\\sigma$\" + f\" : {popt[2]:.2f}\",   \n",
    "                     \"Calculated aver, RMS :  \",\n",
    "                     f\" - E(X) = {E_X:.2f} \",\n",
    "                     f\" - RMS(X) = {RMS_X:.2f}\" \n",
    "                    ))\n",
    "\n",
    "\n",
    "ax2.text(0.05, 0.9, textstr2, transform=ax2.transAxes, fontsize=14,verticalalignment='top', bbox=props)\n",
    "ax2.set_xlabel(\"Aerosol - Angstrom exponent\")\n",
    "ax2.set_title(f\"{obs} : Fitted log-normal pdf\")\n",
    "\n",
    "\n",
    "figname =f\"{pathfigs}/{obs}_vaodangstrom_allpoints_merra2\"+figtype\n",
    "fig.savefig(figname)\n",
    "plt.show()"
   ]
  },
  {
   "cell_type": "markdown",
   "id": "56deb137-6302-403b-9e90-2276bb37e482",
   "metadata": {},
   "source": [
    "### Simulation of Aerosol -Angstrom"
   ]
  },
  {
   "cell_type": "code",
   "execution_count": null,
   "id": "77ca7f04-a8ab-421b-9815-da437b3bfd9f",
   "metadata": {},
   "outputs": [],
   "source": [
    "data_sim_angstrom = np.random.lognormal(popt[1],popt[2],50000)"
   ]
  },
  {
   "cell_type": "code",
   "execution_count": null,
   "id": "373c690d-cea5-424f-a627-fde9fae9b0f6",
   "metadata": {},
   "outputs": [],
   "source": [
    "fig, ax = plt.subplots(1,1,figsize=(6,4),layout=\"constrained\")\n",
    "ax.hist(data_sim_angstrom,bins=100,range=(0.,4.),facecolor=\"purple\");\n",
    "ax.set_title(f\"{obs} : simulation of Aerosols - Angstrom Exponent\")\n",
    "ax.set_xlabel(\"Angstrom Exponent\")\n",
    "ax.set_xlim(0.,3.)\n",
    "ax.text(0.01, 0.95, textstr2, transform=ax.transAxes, fontsize=14,verticalalignment='top', bbox=props)\n",
    "plt.show()"
   ]
  },
  {
   "cell_type": "markdown",
   "id": "fe94a7fb-c9e9-4d98-a57c-c9731cb1abac",
   "metadata": {},
   "source": [
    "### Compute magnitudes Dispersion in bands\n",
    "\n",
    "- Example in notebook : https://github.com/sylvielsstfr/RubinLSSTPhotometricCorrTuto/blob/23-ambre-library/notebooks/10_resolution/ComputeMagResolutionPWV_LSSTfilters.ipynb"
   ]
  },
  {
   "cell_type": "code",
   "execution_count": null,
   "id": "ac874a69-7278-471d-84ef-465eeb59620f",
   "metadata": {},
   "outputs": [],
   "source": [
    "am0 = 1.2\n",
    "pwv0 = 5.\n",
    "oz0 = 300.\n",
    "#tau0 = np.median(data_sim_vaod) \n",
    "tau0 = 1.0\n",
    "beta0 = np.median(data_sim_angstrom)"
   ]
  },
  {
   "cell_type": "code",
   "execution_count": null,
   "id": "4cdca77e-0fe0-4c11-aaee-85528773dd21",
   "metadata": {},
   "outputs": [],
   "source": [
    "all_betas = data_sim_angstrom"
   ]
  },
  {
   "cell_type": "code",
   "execution_count": null,
   "id": "fe327ad3-95f6-40da-bb38-defbe9a620c0",
   "metadata": {},
   "outputs": [],
   "source": [
    "plt.hist(all_betas)"
   ]
  },
  {
   "cell_type": "code",
   "execution_count": null,
   "id": "e264187b-67d5-47e6-9acd-9173f22497e1",
   "metadata": {},
   "outputs": [],
   "source": [
    "NMAX = len(all_betas)\n",
    "NSAMP = 10000\n",
    "a = np.arange(0,NMAX ,1)\n",
    "b = np.random.choice(a, size=NSAMP,replace = False)\n",
    "index_selected = np.sort(b)\n",
    "all_betas = all_betas[index_selected] "
   ]
  },
  {
   "cell_type": "code",
   "execution_count": null,
   "id": "125e32eb-f87f-4027-a8cf-b63dd277f963",
   "metadata": {},
   "outputs": [],
   "source": [
    "tau0"
   ]
  },
  {
   "cell_type": "code",
   "execution_count": null,
   "id": "f53bb75e-e1ea-4623-8e96-08890543cbbf",
   "metadata": {},
   "outputs": [],
   "source": [
    "all_betas"
   ]
  },
  {
   "cell_type": "code",
   "execution_count": null,
   "id": "1fec5b53-cc22-46f1-b27c-a9a95d0745c7",
   "metadata": {},
   "outputs": [],
   "source": [
    "pc = PhotometricCorrections(am0,pwv0,oz0,tau0,beta0)\n",
    "pc.CalculateMultiObs(am0,pwv0,oz0,tau0,all_betas)"
   ]
  },
  {
   "cell_type": "code",
   "execution_count": null,
   "id": "569dfd2f-c87e-4f10-bb93-7e050bec6a93",
   "metadata": {},
   "outputs": [],
   "source": [
    "mag_std = {}\n",
    "adu_std = {}\n",
    "atm_bands = pc.bandpass_total_std\n",
    "for index,f in enumerate(filter_tagnames) :\n",
    "    mag_std[f] = the_sed_flat.calc_mag(atm_bands[f])\n",
    "    adu_std[f] = -2.5*np.log10(the_sed_flat.calc_adu(atm_bands[f],photoparams))"
   ]
  },
  {
   "cell_type": "code",
   "execution_count": null,
   "id": "7cb32656-1a24-41e3-a3cd-3e726a8597b2",
   "metadata": {},
   "outputs": [],
   "source": [
    "df = pd.DataFrame(columns = [\"beta\",\"magu\",\"magg\",\"magr\",\"magi\",\"magz\",\"magy\",\n",
    "                                   \"aduu\",\"adug\",\"adur\",\"adui\",\"aduz\",\"aduy\"])\n",
    "\n",
    "for idx_beta,beta in enumerate(all_betas):\n",
    "    mag_nonstd = {}\n",
    "    adu_nonstd = {}\n",
    "    atm_bands = pc.coll_bandpass_total_nonstd[idx_tau] \n",
    "    for index,f in enumerate(filter_tagnames) :\n",
    "        mag_nonstd[f] = the_sed_flat.calc_mag(atm_bands[f])\n",
    "        adu_nonstd[f] = -2.5*np.log10(the_sed_flat.calc_adu(atm_bands[f],photoparams))\n",
    "   \n",
    "    df.loc[idx_beta] = [beta, mag_nonstd[\"u\"],mag_nonstd[\"g\"],mag_nonstd[\"r\"],mag_nonstd[\"i\"],mag_nonstd[\"z\"],mag_nonstd[\"y\"],\n",
    "                       adu_nonstd[\"u\"],adu_nonstd[\"g\"],adu_nonstd[\"r\"],adu_nonstd[\"i\"],adu_nonstd[\"z\"],adu_nonstd[\"y\"]] \n",
    "\n",
    "df = df[[\"beta\",\"aduu\",\"adug\",\"adur\",\"adui\",\"aduz\",\"aduy\"]]"
   ]
  },
  {
   "cell_type": "code",
   "execution_count": null,
   "id": "3dac654f-e782-44f8-a86c-eee9c5cb8c71",
   "metadata": {},
   "outputs": [],
   "source": [
    "for index,f in enumerate(filter_tagnames) :\n",
    "    label_in = f'adu{f}'\n",
    "    label_out =f'd_adu{f}'\n",
    "    df[label_out] = (df[label_in]- adu_std[f])*1000. "
   ]
  },
  {
   "cell_type": "code",
   "execution_count": null,
   "id": "40d65181-7bfe-48e1-bc3a-8867e25ed4f5",
   "metadata": {},
   "outputs": [],
   "source": [
    "df = df[[\"beta\",\"d_aduu\",\"d_adug\",\"d_adur\",\"d_adui\",\"d_aduz\",\"d_aduy\"]]"
   ]
  },
  {
   "cell_type": "code",
   "execution_count": null,
   "id": "1df2cb83-c3b6-45e3-83a7-83cf4a8c5e65",
   "metadata": {},
   "outputs": [],
   "source": [
    "df.describe()"
   ]
  },
  {
   "cell_type": "code",
   "execution_count": null,
   "id": "dbce9101-464a-4c77-8722-2d2191b44498",
   "metadata": {},
   "outputs": [],
   "source": [
    "fig,axs = plt.subplots(1,3,figsize=(16,5),layout=\"constrained\")\n",
    "\n",
    "std1 = df[\"d_aduu\"].agg([\"std\"])[\"std\"]\n",
    "txt1 = \"$\\sigma_u$ = \" +f\" {std1:.3f} mmag\"\n",
    "std2 = df[\"d_adug\"].agg([\"std\"])[\"std\"]\n",
    "txt2 = \"$\\sigma_g$ = \" +f\" {std2:.3f} mmag\"\n",
    "std3 = df[\"d_adur\"].agg([\"std\"])[\"std\"]\n",
    "txt3 = \"$\\sigma_r$ = \" +f\" {std3:.3f} mmag\"\n",
    "\n",
    "ax1,ax2,ax3 = axs.flatten()\n",
    "df[\"d_aduu\"].hist(ax=ax1,bins=50,histtype=\"step\",lw=5,color=\"b\",label=txt1,linewidth=3)\n",
    "df[\"d_adug\"].hist(ax=ax2,bins=50,histtype=\"step\",lw=5,color=\"g\",label=txt2,linewidth=3)\n",
    "df[\"d_adur\"].hist(ax=ax3,bins=50,histtype=\"step\",lw=5,color=\"r\",label=txt3,linewidth=3)\n",
    "ax1.legend(loc=\"upper left\"); ax2.legend(loc=\"upper left\") ; ax3.legend(loc=\"upper left\")\n",
    "ax1.set_xlabel(\"u (mmag)\") ;  ax2.set_xlabel(\"g (mmag)\") ; ax3.set_xlabel(\"r (mmag)\") \n",
    "ax1.set_ylim(0.,1.3*ax1.get_ylim()[1]), ax2.set_ylim(0.,1.3*ax2.get_ylim()[1]); ax3.set_ylim(0.,1.3*ax3.get_ylim()[1])\n",
    "#ax1.set_xlim(-2,2.); ax2.set_xlim(-2,2.); ax3.set_xlim(-2,2.); \n",
    "plt.suptitle(f\"{obs} : impact of aerosols Angstrom exponent in bands, airmass = {am0}\",fontsize=20)\n",
    "plt.show()"
   ]
  },
  {
   "cell_type": "code",
   "execution_count": null,
   "id": "fa1dc67c-0ab9-41c4-94e0-eb441604bf4e",
   "metadata": {},
   "outputs": [],
   "source": [
    "df[\"d_U-G\"] = df[\"d_aduu\"] -  df[\"d_adug\"]\n",
    "df[\"d_G-R\"] = df[\"d_adug\"] -  df[\"d_adur\"]\n",
    "df[\"d_R-I\"] = df[\"d_adur\"] -  df[\"d_adui\"]"
   ]
  },
  {
   "cell_type": "code",
   "execution_count": null,
   "id": "06e46bb3-7a1e-4388-b092-aa69d37c9aaa",
   "metadata": {},
   "outputs": [],
   "source": [
    "fig,axs = plt.subplots(1,3,figsize=(16,5),layout=\"constrained\")\n",
    "\n",
    "std1 = df[\"d_U-G\"].agg([\"std\"])[\"std\"]\n",
    "txt1 = \"$\\sigma_{u-g}$ = \" +f\" {std1:.0f} mmag\"\n",
    "std2 = df[\"d_G-R\"].agg([\"std\"])[\"std\"]\n",
    "txt2 = \"$\\sigma_{g-r}$ = \" +f\" {std2:.0f} mmag\"\n",
    "std3 = df[\"d_R-I\"].agg([\"std\"])[\"std\"]\n",
    "txt3 = \"$\\sigma_{r-i}$ = \" +f\" {std3:.0f} mmag\"\n",
    "\n",
    "ax1,ax2,ax3 = axs.flatten()\n",
    "df[\"d_U-G\"].hist(ax=ax1,bins=50,histtype=\"step\",lw=5,color=\"b\",label=txt1,linewidth=3)\n",
    "df[\"d_G-R\"].hist(ax=ax2,bins=50,histtype=\"step\",lw=5,color=\"g\",label=txt2,linewidth=3)\n",
    "df[\"d_R-I\"].hist(ax=ax3,bins=50,histtype=\"step\",lw=5,color=\"r\",label=txt3,linewidth=3)\n",
    "ax1.legend(loc=\"upper left\"); ax2.legend(loc=\"upper left\") ; ax3.legend(loc=\"upper left\")\n",
    "ax1.set_xlabel(\"u-g (mmag)\") ;  ax2.set_xlabel(\"g-r (mmag)\") ; ax3.set_xlabel(\"r-i (mmag)\") \n",
    "ax1.set_ylim(0.,1.3*ax1.get_ylim()[1]), ax2.set_ylim(0.,1.3*ax2.get_ylim()[1]); ax3.set_ylim(0.,1.3*ax3.get_ylim()[1])\n",
    "ax1.set_xlim(-100,100.); ax2.set_xlim(-100,100.); ax3.set_xlim(-100,100.); \n",
    "plt.suptitle(f\"{obs} : impact of aerosols Angstrom, airmass = {am0}\",fontsize=20)\n",
    "plt.show()"
   ]
  },
  {
   "cell_type": "markdown",
   "id": "5faa4cb3-0196-4361-8c85-fcdcc4d55cca",
   "metadata": {},
   "source": [
    "## Plot transparencies"
   ]
  },
  {
   "cell_type": "code",
   "execution_count": null,
   "id": "13c9c7bf-43db-4fe6-971f-83aad663e2b8",
   "metadata": {},
   "outputs": [],
   "source": [
    "all_percentiles = np.arange(0.01,1.0,0.01)\n",
    "Npercentiles = len(all_percentiles)\n",
    "xquantiles_pwv = [ np.quantile(data_sim_pwv, q) for q in all_percentiles]\n",
    "xquantiles_o3 = [ np.quantile(data_sim_o3, q) for q in all_percentiles]\n",
    "xquantiles_vaod = [ np.quantile(data_sim_vaod, q) for q in all_percentiles]\n",
    "xquantiles_angstrom = [ np.quantile(data_sim_angstrom, q) for q in all_percentiles]"
   ]
  },
  {
   "cell_type": "markdown",
   "id": "6fe81772-a1a4-4d9f-b85c-e2dd58ced2f2",
   "metadata": {},
   "source": [
    "### Make colormaps"
   ]
  },
  {
   "cell_type": "code",
   "execution_count": null,
   "id": "608b9c13-0167-4281-92c5-607667475f34",
   "metadata": {},
   "outputs": [],
   "source": [
    "cmap = mpl.colormaps['Blues']\n",
    "cmap_invert = mpl.colormaps['Blues_r']\n",
    "colors1 = cmap(np.linspace(0, 1, Npercentiles//2))\n",
    "colors2 = cmap_invert(np.linspace(0, 1, Npercentiles - Npercentiles//2))\n",
    "all_colors_blues = np.vstack((colors1,colors2))"
   ]
  },
  {
   "cell_type": "code",
   "execution_count": null,
   "id": "cb3bb80a-e5f9-4f67-b469-cd480fc478e7",
   "metadata": {},
   "outputs": [],
   "source": [
    "cmap = mpl.colormaps['Reds']\n",
    "cmap_invert = mpl.colormaps['Reds_r']\n",
    "colors1 = cmap(np.linspace(0, 1, Npercentiles//2))\n",
    "colors2 = cmap_invert(np.linspace(0, 1, Npercentiles - Npercentiles//2))\n",
    "all_colors_reds = np.vstack((colors1,colors2))"
   ]
  },
  {
   "cell_type": "code",
   "execution_count": null,
   "id": "e0d6d5fa-8aa8-49f3-9bda-d2521f764d42",
   "metadata": {},
   "outputs": [],
   "source": [
    "cmap = mpl.colormaps['Greens']\n",
    "cmap_invert = mpl.colormaps['Greens_r']\n",
    "colors1 = cmap(np.linspace(0, 1, Npercentiles//2))\n",
    "colors2 = cmap_invert(np.linspace(0, 1, Npercentiles - Npercentiles//2))\n",
    "all_colors_greens = np.vstack((colors1,colors2))"
   ]
  },
  {
   "cell_type": "code",
   "execution_count": null,
   "id": "96c9f2dd-8190-4ad5-93f6-d45204f412fc",
   "metadata": {},
   "outputs": [],
   "source": [
    "cmap = mpl.colormaps['Purples']\n",
    "cmap_invert = mpl.colormaps['Purples_r']\n",
    "colors1 = cmap(np.linspace(0, 1, Npercentiles//2))\n",
    "colors2 = cmap_invert(np.linspace(0, 1, Npercentiles - Npercentiles//2))\n",
    "all_colors_purples = np.vstack((colors1,colors2))"
   ]
  },
  {
   "cell_type": "markdown",
   "id": "02fba974-fdbe-4186-9a70-ff919248e7b4",
   "metadata": {},
   "source": [
    "## Simulate transparencies"
   ]
  },
  {
   "cell_type": "code",
   "execution_count": null,
   "id": "681851bd-8a57-4dae-bd78-8622ab3ec2b2",
   "metadata": {},
   "outputs": [],
   "source": [
    "from getObsAtmo.getObsAtmo import ObsAtmo,validateObsName,Dict_Of_sitesPressures,getObsSiteDataFrame"
   ]
  },
  {
   "cell_type": "code",
   "execution_count": null,
   "id": "f68d304c-a434-439b-81f5-bd06a6d73059",
   "metadata": {},
   "outputs": [],
   "source": [
    "emul =  ObsAtmo(obs_str= \"LSST\")\n",
    "WL = emul.GetWL()"
   ]
  },
  {
   "cell_type": "markdown",
   "id": "310f0917-65ec-4459-ba0c-39fd8817de18",
   "metadata": {},
   "source": [
    "### Transmission with PWV"
   ]
  },
  {
   "cell_type": "code",
   "execution_count": null,
   "id": "1e3cd105-7a66-4162-8846-52a8dde6dca1",
   "metadata": {},
   "outputs": [],
   "source": [
    "am0 = 1.2\n",
    "pwv0 = 5.3\n",
    "oz0 = 267.\n",
    "\n",
    "fig = plt.figure(figsize=(12, 8),layout=\"constrained\")\n",
    "gs = fig.add_gridspec(2, 1  , height_ratios=(3 ,1),left=0.1, right=0.9, bottom=0.1, top=0.9,wspace=0.01, hspace=0.01)\n",
    "ax1 = fig.add_subplot(gs[0])\n",
    "ax2 = fig.add_subplot(gs[1],sharex=ax)\n",
    "\n",
    "#atmospheric transmission\n",
    "for idx,quantile in enumerate(xquantiles_pwv ):\n",
    "    pwv0 = quantile\n",
    "    if pwv0<15.0:\n",
    "        transm = emul.GetAllTransparencies(WL,am0,pwv0,oz0)\n",
    "        ax1.plot(WL,transm,color=all_colors_blues[idx]) \n",
    "    if idx== Npercentiles//2:\n",
    "        label = f\"PWV(median) = {pwv0:.2f} mm\"\n",
    "        ax1.plot(WL,transm,color=all_colors_blues[idx],label=label) \n",
    "        transm_median = transm\n",
    "\n",
    "#atmospheric transmission ratio\n",
    "for idx,quantile in enumerate(xquantiles_pwv):\n",
    "    pwv0 = quantile\n",
    "    if pwv0<15.0:\n",
    "        transm = emul.GetAllTransparencies(WL,am0,pwv0,oz0)\n",
    "        ax2.plot(WL,transm/transm_median,color=all_colors_blues[idx]) \n",
    "\n",
    "   \n",
    "transm = emul.GetAllTransparencies(WL,am0,0,0,0)\n",
    "ax1.plot(WL,transm,color='k',label=\"no PWV,Ozone,aerosols\") \n",
    "ax1.set_title(f\"{obs} : Atm transp by precipitable water vapor (1%-99%percentile) airmass = {am0:.2f}\")\n",
    "ax2.set_xlabel(\"$\\lambda$ (nm)\")\n",
    "ax2.set_ylabel(\"ratio\")\n",
    "ax1.set_ylabel(\"Atmospheric transparency\")\n",
    "ax1.legend()\n",
    "\n",
    "# band transmission    \n",
    "ax1bis= ax1.twinx()\n",
    "for index,f in enumerate(filter_tagnames):    \n",
    "    ax1bis.plot(pc.bandpass_total_std[f].wavelen,pc.bandpass_total_std[f].sb,':',color=filter_color[index]) \n",
    "ax1bis.set_ylim(0.,1.)\n",
    "ax1bis.axes.get_yaxis().set_visible(False)\n",
    "\n",
    "\n",
    "\n",
    "figname =f\"{pathfigs}/{obs}_atmtransmpwv_predmerra2\"+figtype\n",
    "fig.savefig(figname)\n",
    "\n",
    "plt.show()"
   ]
  },
  {
   "cell_type": "markdown",
   "id": "38da1bdc-7b42-4ebf-9cda-ecc6271db4e9",
   "metadata": {},
   "source": [
    "### Transmission with Ozone"
   ]
  },
  {
   "cell_type": "code",
   "execution_count": null,
   "id": "f3eecb17-8b22-41f1-88a4-5089ca10f5f1",
   "metadata": {},
   "outputs": [],
   "source": [
    "am0 = 1.2\n",
    "pwv0 = 5.3\n",
    "oz0 = 267.\n",
    "\n",
    "\n",
    "fig = plt.figure(figsize=(12, 8),layout=\"constrained\")\n",
    "gs = fig.add_gridspec(2, 1  , height_ratios=(3 ,1),left=0.1, right=0.9, bottom=0.1, top=0.9,wspace=0.01, hspace=0.01)\n",
    "ax1 = fig.add_subplot(gs[0])\n",
    "ax2 = fig.add_subplot(gs[1],sharex=ax)\n",
    "\n",
    "#atmospheric transmission\n",
    "for idx,quantile in enumerate(xquantiles_o3 ):\n",
    "    oz = quantile\n",
    "   \n",
    "    transm = emul.GetAllTransparencies(WL,am0,pwv0,oz,0)\n",
    "    ax1.plot(WL,transm,color=all_colors_reds[idx]) \n",
    "    if idx== Npercentiles//2:\n",
    "        label = f\"Ozone(median) = {oz0:.2f} DU\"\n",
    "        ax1.plot(WL,transm,color=all_colors_reds[idx],label=label) \n",
    "        transm_median = transm\n",
    "\n",
    "#atmospheric transmission ratio\n",
    "for idx,quantile in enumerate(xquantiles_o3 ):\n",
    "    oz = quantile\n",
    "    transm = emul.GetAllTransparencies(WL,am0,pwv0,oz)\n",
    "    ax2.plot(WL,transm/transm_median,color=all_colors_reds[idx]) \n",
    "\n",
    "\n",
    "transm = emul.GetAllTransparencies(WL,am0,0,0)\n",
    "ax1.plot(WL,transm,color='k',label=\"No PWV,Ozone,aerosols\") \n",
    "\n",
    "ax1.set_title(f\"{obs} : Atm transp by Ozone (1%-99%percentile) airmass = {am0:.2f}\")\n",
    "ax2.set_xlabel(\"$\\lambda$ (nm)\")\n",
    "ax1.set_ylabel(\"Atmospheric transparency\")\n",
    "ax2.set_ylim(0.99,1.01)\n",
    "ax2.set_ylabel(\"ratio\")\n",
    "ax1.legend()\n",
    "\n",
    "\n",
    "# band transmission    \n",
    "ax1bis= ax1.twinx()\n",
    "for index,f in enumerate(filter_tagnames):    \n",
    "    ax1bis.plot(pc.bandpass_total_std[f].wavelen,pc.bandpass_total_std[f].sb,':',color=filter_color[index]) \n",
    "ax1bis.set_ylim(0.,1.)\n",
    "ax1bis.axes.get_yaxis().set_visible(False)\n",
    "\n",
    "\n",
    "figname =f\"{pathfigs}/{obs}_atmtransmozone_predmerra2\"+figtype\n",
    "fig.savefig(figname)\n",
    "\n",
    "plt.show()"
   ]
  },
  {
   "cell_type": "markdown",
   "id": "e7a38f58-895c-403e-bcd8-af552692231e",
   "metadata": {},
   "source": [
    "### Transmission with VAOD"
   ]
  },
  {
   "cell_type": "code",
   "execution_count": null,
   "id": "5d84686c-260e-428b-97cb-be964ba1a582",
   "metadata": {},
   "outputs": [],
   "source": [
    "am0 = 1.2\n",
    "pwv0 = 5.3\n",
    "oz0 = 267.\n",
    "ang0 = 1.435\n",
    "\n",
    "\n",
    "fig = plt.figure(figsize=(12, 8),layout=\"constrained\")\n",
    "gs = fig.add_gridspec(2, 1  , height_ratios=(3 ,1),left=0.1, right=0.9, bottom=0.1, top=0.9,wspace=0.01, hspace=0.01)\n",
    "ax1 = fig.add_subplot(gs[0])\n",
    "ax2 = fig.add_subplot(gs[1],sharex=ax)\n",
    "\n",
    "#atmospheric transmission\n",
    "for idx,quantile in enumerate(xquantiles_vaod ):\n",
    "    vaod = quantile\n",
    "   \n",
    "    transm = emul.GetAllTransparencies(WL,am0,pwv0,oz0,tau=vaod,beta=ang0)\n",
    "    ax1.plot(WL,transm,color=all_colors_greens[idx]) \n",
    "    if idx== Npercentiles//2:\n",
    "        label = f\"VAOD(median) = {vaod:.2f}\"\n",
    "        ax1.plot(WL,transm,color=all_colors_greens[idx],label=label)\n",
    "        transm_median = transm\n",
    "        \n",
    "#atmospheric transmission ratio\n",
    "for idx,quantile in enumerate(xquantiles_vaod ):\n",
    "    vaod = quantile\n",
    "    transm = emul.GetAllTransparencies(WL,am0,pwv0,oz0,tau=vaod,beta=ang0)\n",
    "    ax2.plot(WL,transm/transm_median,color=all_colors_greens[idx]) \n",
    "    \n",
    "\n",
    "\n",
    "transm = emul.GetAllTransparencies(WL,am0,0,0)\n",
    "ax1.plot(WL,transm,color='k',label=\"No PWV,Ozone,aerosols\") \n",
    "\n",
    "ax1.set_title(f\"{obs} : Atm. transp. by Aerosols VAOD (1%-99%percentile) airmass = {am0:.2f}\")\n",
    "ax2.set_xlabel(\"$\\lambda$ (nm)\")\n",
    "ax1.set_ylabel(\"Atmospheric transparency\")\n",
    "ax1.legend()\n",
    "ax2.set_ylabel(\"ratio\")\n",
    "ax2.set_ylim(0.9,1.1)\n",
    "\n",
    "# band transmission    \n",
    "ax1bis= ax1.twinx()\n",
    "for index,f in enumerate(filter_tagnames):    \n",
    "    ax1bis.plot(pc.bandpass_total_std[f].wavelen,pc.bandpass_total_std[f].sb,':',color=filter_color[index]) \n",
    "ax1bis.set_ylim(0.,1.)\n",
    "ax1bis.axes.get_yaxis().set_visible(False)\n",
    "\n",
    "\n",
    "figname =f\"{pathfigs}/{obs}_atmtransmvaod_predmerra2\"+figtype\n",
    "fig.savefig(figname)\n",
    "\n",
    "plt.show()"
   ]
  },
  {
   "cell_type": "markdown",
   "id": "fa9eb562-bb40-4fed-b41e-b256997229ca",
   "metadata": {},
   "source": [
    "### Transmission with VAOD-Angstrom exponent"
   ]
  },
  {
   "cell_type": "code",
   "execution_count": null,
   "id": "53af0f50-5afa-461f-b9ff-3558435fa678",
   "metadata": {},
   "outputs": [],
   "source": [
    "am0 = 1.2\n",
    "pwv0 = 5.3\n",
    "oz0 = 267.\n",
    "vaod0= 0.04\n",
    "\n",
    "fig = plt.figure(figsize=(12, 8),layout=\"constrained\")\n",
    "gs = fig.add_gridspec(2, 1  , height_ratios=(3 ,1),left=0.1, right=0.9, bottom=0.1, top=0.9,wspace=0.01, hspace=0.01)\n",
    "ax1 = fig.add_subplot(gs[0])\n",
    "ax2 = fig.add_subplot(gs[1],sharex=ax)\n",
    "\n",
    "#atmospheric transmission\n",
    "for idx,quantile in enumerate(xquantiles_angstrom ):\n",
    "    ang = quantile\n",
    "   \n",
    "    transm = emul.GetAllTransparencies(WL,am0,pwv0,oz0,tau=vaod0,beta=ang )\n",
    "    ax1.plot(WL,transm,color=all_colors_purples[idx]) \n",
    "    if idx== Npercentiles//2:\n",
    "        label = f\"VAOD-Angstrop(median) = {ang:.2f}\"\n",
    "        ax1.plot(WL,transm,color=all_colors_purples[idx],label=label) \n",
    "        transm_median = transm\n",
    "\n",
    "#atmospheric transmission ratio\n",
    "for idx,quantile in enumerate(xquantiles_angstrom ):\n",
    "    ang = quantile\n",
    "    transm = emul.GetAllTransparencies(WL,am0,pwv0,oz0,tau=vaod0,beta=ang )\n",
    "    ax2.plot(WL,transm/transm_median,color=all_colors_purples[idx]) \n",
    "\n",
    "transm = emul.GetAllTransparencies(WL,am0,0,0)\n",
    "ax1.plot(WL,transm,color='k',label=\"No PWV,Ozone,aerosols\") \n",
    "ax1.set_title(f\"{obs} : Atm transp by Aerosols-Angstrom (1%-99%percentile) airmass = {am0:.2f}\")\n",
    "ax2.set_xlabel(\"$\\lambda$ (nm)\")\n",
    "ax2.set_ylim(0.99,1.01)\n",
    "ax1.set_ylabel(\"Atmospheric transparency\")\n",
    "ax1.legend()\n",
    "ax2.set_ylabel(\"ratio\")\n",
    "\n",
    "# band transmission    \n",
    "ax1bis= ax1.twinx()\n",
    "for index,f in enumerate(filter_tagnames):    \n",
    "    ax1bis.plot(pc.bandpass_total_std[f].wavelen,pc.bandpass_total_std[f].sb,':',color=filter_color[index]) \n",
    "ax1bis.set_ylim(0.,1.)\n",
    "ax1bis.axes.get_yaxis().set_visible(False)\n",
    "\n",
    "figname =f\"{pathfigs}/{obs}_atmtransmangstrom_predmerra2\"+figtype\n",
    "fig.savefig(figname)\n",
    "\n",
    "plt.show()"
   ]
  },
  {
   "cell_type": "markdown",
   "id": "31c81d7c-d60e-480a-b3fa-8d0339682efc",
   "metadata": {},
   "source": [
    "### Combined transmission without ratio"
   ]
  },
  {
   "cell_type": "code",
   "execution_count": null,
   "id": "bcfe8e4c-7436-48df-800c-2feb8cb4aab9",
   "metadata": {},
   "outputs": [],
   "source": [
    "fig, ax = plt.subplots(1,1,figsize=(12,8))\n",
    "\n",
    "\n",
    "am0 = 1.2\n",
    "pwv0 = 5.3\n",
    "oz0 = 267.\n",
    "vaod0= 0.04\n",
    "ang0 = 1.435\n",
    "\n",
    "\n",
    "# Ozone\n",
    "#for idx,quantile in enumerate(xquantiles_o3):\n",
    "#    oz = quantile  \n",
    "#    transm = emul.GetAllTransparencies(WL,am0,pwv0,oz,vaod0,ang0)\n",
    "#    ax.plot(WL,transm,color=all_colors_reds[idx]) \n",
    "#    if idx== Npercentiles//2:\n",
    "#        label = f\"Ozone(median) = {oz0:.2f} DU\"\n",
    "#        ax.plot(WL,transm,color=all_colors_reds[idx],label=label,lw=3) \n",
    "\n",
    "\n",
    "# Angstrom\n",
    "#for idx,quantile in enumerate(xquantiles_angstrom):\n",
    "#    ang = quantile   \n",
    "#    transm = emul.GetAllTransparencies(WL,am0,pwv0,oz0,tau=vaod0,beta=ang )\n",
    "#    ax.plot(WL,transm,color=all_colors_purples[idx]) \n",
    "#    if idx== Npercentiles//2:\n",
    "#        label = f\"VAOD-Angstrop(median) = {ang:.2f}\"\n",
    "#        ax.plot(WL,transm,color=all_colors_purples[idx],label=label,lw=3) \n",
    "\n",
    "#atmospheric transmission\n",
    "\n",
    "#VAOD\n",
    "for idx,quantile in enumerate(xquantiles_vaod ):\n",
    "    vaod = quantile\n",
    "   \n",
    "    transm = emul.GetAllTransparencies(WL,am0,pwv0,oz0,tau=vaod,beta=ang0)\n",
    "    ax.plot(WL,transm,color=all_colors_greens[idx]) \n",
    "    if idx== Npercentiles//2:\n",
    "        label = f\"VAOD(median) = {vaod:.2f}\"\n",
    "        ax.plot(WL,transm,color=all_colors_greens[idx],label=label,lw=3) \n",
    "\n",
    "# PWV\n",
    "for idx,quantile in enumerate(xquantiles_pwv):\n",
    "    pwv = quantile\n",
    "    if pwv<15.0:\n",
    "        transm = emul.GetAllTransparencies(WL,am0,pwv,oz0,vaod0,ang0)\n",
    "        ax.plot(WL,transm,color=all_colors_blues[idx]) \n",
    "    if idx== Npercentiles//2:\n",
    "        label = f\"PWV(median) = {pwv0:.2f} mm\"\n",
    "        ax.plot(WL,transm,color=all_colors_blues[idx],label=label,lw=3) \n",
    "\n",
    "\n",
    "\n",
    "        \n",
    "transm = emul.GetAllTransparencies(WL,am0,0,0,0)\n",
    "ax.plot(WL,transm,color='k',label=\"no PWV,Ozone,aerosols\") \n",
    "\n",
    "ax.set_title(f\"{obs} :Atm transp (1%-99%percentile) airmass = {am0:.2f}\")\n",
    "ax.set_xlabel(\"$\\lambda$ (nm)\")\n",
    "ax.set_ylabel(\"Atmospheric transparency\")\n",
    "ax.legend()\n",
    "\n",
    "# band transmission    \n",
    "axbis= ax.twinx()\n",
    "for index,f in enumerate(filter_tagnames):    \n",
    "    axbis.plot(pc.bandpass_total_std[f].wavelen,pc.bandpass_total_std[f].sb,':',color=filter_color[index]) \n",
    "axbis.set_ylim(0.,1.)\n",
    "axbis.axes.get_yaxis().set_visible(False)\n",
    "\n",
    "\n",
    "figname =f\"{pathfigs}/{obs}_atmtransmpwvvaodcombined_predmerra2\"+figtype\n",
    "fig.savefig(figname)\n",
    "\n",
    "\n",
    "plt.show()"
   ]
  },
  {
   "cell_type": "code",
   "execution_count": null,
   "id": "4914110e-a9d9-4792-b0fb-c309bc793011",
   "metadata": {},
   "outputs": [],
   "source": []
  },
  {
   "cell_type": "code",
   "execution_count": null,
   "id": "6f282f1e-af42-4ff1-8e6a-d9c7ff5acb21",
   "metadata": {},
   "outputs": [],
   "source": []
  },
  {
   "cell_type": "code",
   "execution_count": null,
   "id": "51a21c39-5065-49c0-996c-880ba18c54ff",
   "metadata": {},
   "outputs": [],
   "source": []
  }
 ],
 "metadata": {
  "kernelspec": {
   "display_name": "conda_py311",
   "language": "python",
   "name": "conda_py311"
  },
  "language_info": {
   "codemirror_mode": {
    "name": "ipython",
    "version": 3
   },
   "file_extension": ".py",
   "mimetype": "text/x-python",
   "name": "python",
   "nbconvert_exporter": "python",
   "pygments_lexer": "ipython3",
   "version": "3.11.11"
  }
 },
 "nbformat": 4,
 "nbformat_minor": 5
}
